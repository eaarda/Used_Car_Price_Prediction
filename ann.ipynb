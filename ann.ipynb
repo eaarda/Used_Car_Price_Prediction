{
 "metadata": {
  "language_info": {
   "codemirror_mode": {
    "name": "ipython",
    "version": 3
   },
   "file_extension": ".py",
   "mimetype": "text/x-python",
   "name": "python",
   "nbconvert_exporter": "python",
   "pygments_lexer": "ipython3",
   "version": "3.8.6-final"
  },
  "orig_nbformat": 2,
  "kernelspec": {
   "name": "python3",
   "display_name": "Python 3.8.6 64-bit",
   "metadata": {
    "interpreter": {
     "hash": "bddc2bbcf3d20d39dd866fa79e6d44f190e68265c559a9142e16ae1493728cbc"
    }
   }
  }
 },
 "nbformat": 4,
 "nbformat_minor": 2,
 "cells": [
  {
   "cell_type": "code",
   "execution_count": 1,
   "metadata": {},
   "outputs": [],
   "source": [
    "import csv\n",
    "import pandas as pd \n",
    "import numpy as np\n",
    "import matplotlib.pyplot as plt\n",
    "import warnings\n",
    "warnings.filterwarnings('ignore')"
   ]
  },
  {
   "cell_type": "code",
   "execution_count": 2,
   "metadata": {},
   "outputs": [],
   "source": [
    "car_df = pd.read_csv('./data.csv')"
   ]
  },
  {
   "cell_type": "code",
   "execution_count": 3,
   "metadata": {},
   "outputs": [
    {
     "output_type": "execute_result",
     "data": {
      "text/plain": [
       "(11914, 16)"
      ]
     },
     "metadata": {},
     "execution_count": 3
    }
   ],
   "source": [
    "car_df.shape"
   ]
  },
  {
   "cell_type": "code",
   "execution_count": 4,
   "metadata": {},
   "outputs": [],
   "source": [
    "car_df = car_df.dropna()\n",
    "car_df = pd.get_dummies(car_df, columns=['Make'])\n",
    "car_df = pd.get_dummies(car_df, columns=['EngineFuelType'])\n",
    "car_df = pd.get_dummies(car_df, columns=['TransmissionType'])\n",
    "car_df = pd.get_dummies(car_df, columns=['Driven_Wheels'])\n",
    "car_df = pd.get_dummies(car_df, columns=['VehicleSize'])\n",
    "car_df = pd.get_dummies(car_df, columns=['VehicleStyle'])"
   ]
  },
  {
   "cell_type": "code",
   "execution_count": 5,
   "metadata": {},
   "outputs": [],
   "source": [
    "car_df[\"Price\"] = \"\"\n",
    "car_df.loc[car_df['MSRP'] <= 50000 , \"Price\"] = 0\n",
    "car_df.loc[car_df['MSRP'] > 50000, \"Price\"] = 1\n",
    "\n",
    "car_df['Price'] = pd.to_numeric(car_df['Price'], errors='coerce')\n",
    "car_df = car_df.dropna(subset=['Price'])\n",
    "car_df['Price'] = car_df['Price'].astype(int)"
   ]
  },
  {
   "cell_type": "code",
   "execution_count": 6,
   "metadata": {},
   "outputs": [],
   "source": [
    "car_df['EngineHP'] = pd.to_numeric(car_df['EngineHP'], errors='coerce')\n",
    "car_df = car_df.dropna(subset=['EngineHP'])\n",
    "car_df['EngineHP'] = car_df['EngineHP'].astype(int)\n",
    "\n",
    "car_df['EngineCylinders'] = pd.to_numeric(car_df['EngineCylinders'], errors='coerce')\n",
    "car_df = car_df.dropna(subset=['EngineCylinders'])\n",
    "car_df['EngineCylinders'] = car_df['EngineCylinders'].astype(int)\n",
    "\n",
    "car_df['NumberofDoors'] = pd.to_numeric(car_df['NumberofDoors'], errors='coerce')\n",
    "car_df = car_df.dropna(subset=['NumberofDoors'])\n",
    "car_df['NumberofDoors'] = car_df['NumberofDoors'].astype(int)"
   ]
  },
  {
   "cell_type": "code",
   "execution_count": 7,
   "metadata": {},
   "outputs": [
    {
     "output_type": "execute_result",
     "data": {
      "text/plain": [
       "       Model    Year  EngineHP  EngineCylinders  NumberofDoors MarketCategory  \\\n",
       "4   1 Series  2011.0       230                6              2         Luxury   \n",
       "8   1 Series  2012.0       230                6              2         Luxury   \n",
       "9   1 Series  2013.0       230                6              2         Luxury   \n",
       "13  1 Series  2013.0       230                6              2         Luxury   \n",
       "17       100  1992.0       172                6              4         Luxury   \n",
       "\n",
       "    highwayMPG  citympg  Popularity     MSRP  ...  \\\n",
       "4         28.0     18.0      3916.0  54500.0  ...   \n",
       "8         28.0     18.0      3916.0  36900.0  ...   \n",
       "9         27.0     18.0      3916.0  37200.0  ...   \n",
       "13        28.0     19.0      3916.0  37200.0  ...   \n",
       "17        24.0     17.0      3105.0   2000.0  ...   \n",
       "\n",
       "    VehicleStyle_Convertible SUV  VehicleStyle_Coupe  \\\n",
       "4                              0                   0   \n",
       "8                              0                   0   \n",
       "9                              0                   0   \n",
       "13                             0                   0   \n",
       "17                             0                   0   \n",
       "\n",
       "    VehicleStyle_Crew Cab Pickup  VehicleStyle_Extended Cab Pickup  \\\n",
       "4                              0                                 0   \n",
       "8                              0                                 0   \n",
       "9                              0                                 0   \n",
       "13                             0                                 0   \n",
       "17                             0                                 0   \n",
       "\n",
       "    VehicleStyle_Passenger Minivan  VehicleStyle_Passenger Van  \\\n",
       "4                                0                           0   \n",
       "8                                0                           0   \n",
       "9                                0                           0   \n",
       "13                               0                           0   \n",
       "17                               0                           0   \n",
       "\n",
       "    VehicleStyle_Regular Cab Pickup  VehicleStyle_Sedan  VehicleStyle_Wagon  \\\n",
       "4                                 0                   0                   0   \n",
       "8                                 0                   0                   0   \n",
       "9                                 0                   0                   0   \n",
       "13                                0                   0                   0   \n",
       "17                                0                   1                   0   \n",
       "\n",
       "    Price  \n",
       "4       1  \n",
       "8       0  \n",
       "9       0  \n",
       "13      0  \n",
       "17      0  \n",
       "\n",
       "[5 rows x 77 columns]"
      ],
      "text/html": "<div>\n<style scoped>\n    .dataframe tbody tr th:only-of-type {\n        vertical-align: middle;\n    }\n\n    .dataframe tbody tr th {\n        vertical-align: top;\n    }\n\n    .dataframe thead th {\n        text-align: right;\n    }\n</style>\n<table border=\"1\" class=\"dataframe\">\n  <thead>\n    <tr style=\"text-align: right;\">\n      <th></th>\n      <th>Model</th>\n      <th>Year</th>\n      <th>EngineHP</th>\n      <th>EngineCylinders</th>\n      <th>NumberofDoors</th>\n      <th>MarketCategory</th>\n      <th>highwayMPG</th>\n      <th>citympg</th>\n      <th>Popularity</th>\n      <th>MSRP</th>\n      <th>...</th>\n      <th>VehicleStyle_Convertible SUV</th>\n      <th>VehicleStyle_Coupe</th>\n      <th>VehicleStyle_Crew Cab Pickup</th>\n      <th>VehicleStyle_Extended Cab Pickup</th>\n      <th>VehicleStyle_Passenger Minivan</th>\n      <th>VehicleStyle_Passenger Van</th>\n      <th>VehicleStyle_Regular Cab Pickup</th>\n      <th>VehicleStyle_Sedan</th>\n      <th>VehicleStyle_Wagon</th>\n      <th>Price</th>\n    </tr>\n  </thead>\n  <tbody>\n    <tr>\n      <th>4</th>\n      <td>1 Series</td>\n      <td>2011.0</td>\n      <td>230</td>\n      <td>6</td>\n      <td>2</td>\n      <td>Luxury</td>\n      <td>28.0</td>\n      <td>18.0</td>\n      <td>3916.0</td>\n      <td>54500.0</td>\n      <td>...</td>\n      <td>0</td>\n      <td>0</td>\n      <td>0</td>\n      <td>0</td>\n      <td>0</td>\n      <td>0</td>\n      <td>0</td>\n      <td>0</td>\n      <td>0</td>\n      <td>1</td>\n    </tr>\n    <tr>\n      <th>8</th>\n      <td>1 Series</td>\n      <td>2012.0</td>\n      <td>230</td>\n      <td>6</td>\n      <td>2</td>\n      <td>Luxury</td>\n      <td>28.0</td>\n      <td>18.0</td>\n      <td>3916.0</td>\n      <td>36900.0</td>\n      <td>...</td>\n      <td>0</td>\n      <td>0</td>\n      <td>0</td>\n      <td>0</td>\n      <td>0</td>\n      <td>0</td>\n      <td>0</td>\n      <td>0</td>\n      <td>0</td>\n      <td>0</td>\n    </tr>\n    <tr>\n      <th>9</th>\n      <td>1 Series</td>\n      <td>2013.0</td>\n      <td>230</td>\n      <td>6</td>\n      <td>2</td>\n      <td>Luxury</td>\n      <td>27.0</td>\n      <td>18.0</td>\n      <td>3916.0</td>\n      <td>37200.0</td>\n      <td>...</td>\n      <td>0</td>\n      <td>0</td>\n      <td>0</td>\n      <td>0</td>\n      <td>0</td>\n      <td>0</td>\n      <td>0</td>\n      <td>0</td>\n      <td>0</td>\n      <td>0</td>\n    </tr>\n    <tr>\n      <th>13</th>\n      <td>1 Series</td>\n      <td>2013.0</td>\n      <td>230</td>\n      <td>6</td>\n      <td>2</td>\n      <td>Luxury</td>\n      <td>28.0</td>\n      <td>19.0</td>\n      <td>3916.0</td>\n      <td>37200.0</td>\n      <td>...</td>\n      <td>0</td>\n      <td>0</td>\n      <td>0</td>\n      <td>0</td>\n      <td>0</td>\n      <td>0</td>\n      <td>0</td>\n      <td>0</td>\n      <td>0</td>\n      <td>0</td>\n    </tr>\n    <tr>\n      <th>17</th>\n      <td>100</td>\n      <td>1992.0</td>\n      <td>172</td>\n      <td>6</td>\n      <td>4</td>\n      <td>Luxury</td>\n      <td>24.0</td>\n      <td>17.0</td>\n      <td>3105.0</td>\n      <td>2000.0</td>\n      <td>...</td>\n      <td>0</td>\n      <td>0</td>\n      <td>0</td>\n      <td>0</td>\n      <td>0</td>\n      <td>0</td>\n      <td>0</td>\n      <td>1</td>\n      <td>0</td>\n      <td>0</td>\n    </tr>\n  </tbody>\n</table>\n<p>5 rows × 77 columns</p>\n</div>"
     },
     "metadata": {},
     "execution_count": 7
    }
   ],
   "source": [
    "car_df.head()"
   ]
  },
  {
   "cell_type": "code",
   "execution_count": 8,
   "metadata": {},
   "outputs": [],
   "source": [
    "x = car_df.drop(['Model','MarketCategory','highwayMPG','citympg','Popularity','MSRP','Price'],axis=1)\n",
    "y = car_df['Price'].values.reshape(-1,1)"
   ]
  },
  {
   "cell_type": "code",
   "execution_count": 9,
   "metadata": {},
   "outputs": [
    {
     "output_type": "execute_result",
     "data": {
      "text/plain": [
       "      Year  EngineHP  EngineCylinders  NumberofDoors  Make_Acura  Make_Audi  \\\n",
       "4   2011.0       230                6              2           0          0   \n",
       "8   2012.0       230                6              2           0          0   \n",
       "9   2013.0       230                6              2           0          0   \n",
       "13  2013.0       230                6              2           0          0   \n",
       "17  1992.0       172                6              4           0          1   \n",
       "\n",
       "    Make_BMW  Make_Buick  Make_Cadillac  Make_Chevrolet  ...  \\\n",
       "4          1           0              0               0  ...   \n",
       "8          1           0              0               0  ...   \n",
       "9          1           0              0               0  ...   \n",
       "13         1           0              0               0  ...   \n",
       "17         0           0              0               0  ...   \n",
       "\n",
       "    VehicleStyle_Convertible  VehicleStyle_Convertible SUV  \\\n",
       "4                          1                             0   \n",
       "8                          1                             0   \n",
       "9                          1                             0   \n",
       "13                         1                             0   \n",
       "17                         0                             0   \n",
       "\n",
       "    VehicleStyle_Coupe  VehicleStyle_Crew Cab Pickup  \\\n",
       "4                    0                             0   \n",
       "8                    0                             0   \n",
       "9                    0                             0   \n",
       "13                   0                             0   \n",
       "17                   0                             0   \n",
       "\n",
       "    VehicleStyle_Extended Cab Pickup  VehicleStyle_Passenger Minivan  \\\n",
       "4                                  0                               0   \n",
       "8                                  0                               0   \n",
       "9                                  0                               0   \n",
       "13                                 0                               0   \n",
       "17                                 0                               0   \n",
       "\n",
       "    VehicleStyle_Passenger Van  VehicleStyle_Regular Cab Pickup  \\\n",
       "4                            0                                0   \n",
       "8                            0                                0   \n",
       "9                            0                                0   \n",
       "13                           0                                0   \n",
       "17                           0                                0   \n",
       "\n",
       "    VehicleStyle_Sedan  VehicleStyle_Wagon  \n",
       "4                    0                   0  \n",
       "8                    0                   0  \n",
       "9                    0                   0  \n",
       "13                   0                   0  \n",
       "17                   1                   0  \n",
       "\n",
       "[5 rows x 70 columns]"
      ],
      "text/html": "<div>\n<style scoped>\n    .dataframe tbody tr th:only-of-type {\n        vertical-align: middle;\n    }\n\n    .dataframe tbody tr th {\n        vertical-align: top;\n    }\n\n    .dataframe thead th {\n        text-align: right;\n    }\n</style>\n<table border=\"1\" class=\"dataframe\">\n  <thead>\n    <tr style=\"text-align: right;\">\n      <th></th>\n      <th>Year</th>\n      <th>EngineHP</th>\n      <th>EngineCylinders</th>\n      <th>NumberofDoors</th>\n      <th>Make_Acura</th>\n      <th>Make_Audi</th>\n      <th>Make_BMW</th>\n      <th>Make_Buick</th>\n      <th>Make_Cadillac</th>\n      <th>Make_Chevrolet</th>\n      <th>...</th>\n      <th>VehicleStyle_Convertible</th>\n      <th>VehicleStyle_Convertible SUV</th>\n      <th>VehicleStyle_Coupe</th>\n      <th>VehicleStyle_Crew Cab Pickup</th>\n      <th>VehicleStyle_Extended Cab Pickup</th>\n      <th>VehicleStyle_Passenger Minivan</th>\n      <th>VehicleStyle_Passenger Van</th>\n      <th>VehicleStyle_Regular Cab Pickup</th>\n      <th>VehicleStyle_Sedan</th>\n      <th>VehicleStyle_Wagon</th>\n    </tr>\n  </thead>\n  <tbody>\n    <tr>\n      <th>4</th>\n      <td>2011.0</td>\n      <td>230</td>\n      <td>6</td>\n      <td>2</td>\n      <td>0</td>\n      <td>0</td>\n      <td>1</td>\n      <td>0</td>\n      <td>0</td>\n      <td>0</td>\n      <td>...</td>\n      <td>1</td>\n      <td>0</td>\n      <td>0</td>\n      <td>0</td>\n      <td>0</td>\n      <td>0</td>\n      <td>0</td>\n      <td>0</td>\n      <td>0</td>\n      <td>0</td>\n    </tr>\n    <tr>\n      <th>8</th>\n      <td>2012.0</td>\n      <td>230</td>\n      <td>6</td>\n      <td>2</td>\n      <td>0</td>\n      <td>0</td>\n      <td>1</td>\n      <td>0</td>\n      <td>0</td>\n      <td>0</td>\n      <td>...</td>\n      <td>1</td>\n      <td>0</td>\n      <td>0</td>\n      <td>0</td>\n      <td>0</td>\n      <td>0</td>\n      <td>0</td>\n      <td>0</td>\n      <td>0</td>\n      <td>0</td>\n    </tr>\n    <tr>\n      <th>9</th>\n      <td>2013.0</td>\n      <td>230</td>\n      <td>6</td>\n      <td>2</td>\n      <td>0</td>\n      <td>0</td>\n      <td>1</td>\n      <td>0</td>\n      <td>0</td>\n      <td>0</td>\n      <td>...</td>\n      <td>1</td>\n      <td>0</td>\n      <td>0</td>\n      <td>0</td>\n      <td>0</td>\n      <td>0</td>\n      <td>0</td>\n      <td>0</td>\n      <td>0</td>\n      <td>0</td>\n    </tr>\n    <tr>\n      <th>13</th>\n      <td>2013.0</td>\n      <td>230</td>\n      <td>6</td>\n      <td>2</td>\n      <td>0</td>\n      <td>0</td>\n      <td>1</td>\n      <td>0</td>\n      <td>0</td>\n      <td>0</td>\n      <td>...</td>\n      <td>1</td>\n      <td>0</td>\n      <td>0</td>\n      <td>0</td>\n      <td>0</td>\n      <td>0</td>\n      <td>0</td>\n      <td>0</td>\n      <td>0</td>\n      <td>0</td>\n    </tr>\n    <tr>\n      <th>17</th>\n      <td>1992.0</td>\n      <td>172</td>\n      <td>6</td>\n      <td>4</td>\n      <td>0</td>\n      <td>1</td>\n      <td>0</td>\n      <td>0</td>\n      <td>0</td>\n      <td>0</td>\n      <td>...</td>\n      <td>0</td>\n      <td>0</td>\n      <td>0</td>\n      <td>0</td>\n      <td>0</td>\n      <td>0</td>\n      <td>0</td>\n      <td>0</td>\n      <td>1</td>\n      <td>0</td>\n    </tr>\n  </tbody>\n</table>\n<p>5 rows × 70 columns</p>\n</div>"
     },
     "metadata": {},
     "execution_count": 9
    }
   ],
   "source": [
    "x.head()"
   ]
  },
  {
   "cell_type": "code",
   "execution_count": 10,
   "metadata": {},
   "outputs": [
    {
     "output_type": "execute_result",
     "data": {
      "text/plain": [
       "(4430, 1)"
      ]
     },
     "metadata": {},
     "execution_count": 10
    }
   ],
   "source": [
    "y.shape"
   ]
  },
  {
   "cell_type": "code",
   "execution_count": 11,
   "metadata": {},
   "outputs": [],
   "source": [
    "from sklearn.preprocessing import MinMaxScaler\n",
    "\n",
    "scaler = MinMaxScaler()\n",
    "X_scaled = scaler.fit_transform(x)\n",
    "y_scaled = scaler.fit_transform(y)"
   ]
  },
  {
   "cell_type": "code",
   "execution_count": 12,
   "metadata": {},
   "outputs": [],
   "source": [
    "from sklearn.model_selection import train_test_split\n",
    "X_train, X_test, y_train, y_test = train_test_split(X_scaled, y_scaled, test_size = 0.30)"
   ]
  },
  {
   "cell_type": "code",
   "execution_count": 13,
   "metadata": {},
   "outputs": [
    {
     "output_type": "stream",
     "name": "stdout",
     "text": [
      "x_train:  (3101, 70)\ny_train:  (3101, 1)\nx_test:  (1329, 70)\ny_test:  (1329, 1)\n"
     ]
    }
   ],
   "source": [
    "print(\"x_train: \",X_train.shape)\n",
    "print(\"y_train: \",y_train.shape)\n",
    "print(\"x_test: \",X_test.shape)\n",
    "print(\"y_test: \",y_test.shape)"
   ]
  },
  {
   "cell_type": "code",
   "execution_count": 14,
   "metadata": {},
   "outputs": [
    {
     "output_type": "stream",
     "name": "stdout",
     "text": [
      "Model: \"sequential\"\n_________________________________________________________________\nLayer (type)                 Output Shape              Param #   \n=================================================================\ndense (Dense)                (None, 70, 35)            2485      \n_________________________________________________________________\ndense_1 (Dense)              (None, 70, 45)            1620      \n_________________________________________________________________\ndense_2 (Dense)              (None, 70, 1)             46        \n=================================================================\nTotal params: 4,151\nTrainable params: 4,151\nNon-trainable params: 0\n_________________________________________________________________\n"
     ]
    }
   ],
   "source": [
    "import tensorflow.keras\n",
    "from keras.models import Sequential\n",
    "from keras.layers import Dense\n",
    "from sklearn.preprocessing import MinMaxScaler\n",
    "import keras\n",
    "\n",
    "model = Sequential()\n",
    "model.add(Dense(35, input_shape=(70,70), activation='relu'))\n",
    "model.add(Dense(45, activation='sigmoid'))\n",
    "model.add(Dense(1, activation='linear'))\n",
    "model.summary()"
   ]
  },
  {
   "cell_type": "code",
   "execution_count": 15,
   "metadata": {},
   "outputs": [],
   "source": [
    "metrics = ['accuracy']\n",
    "optimizer = keras.optimizers.Adam(lr=0.03)\n",
    "model.compile(optimizer=optimizer, loss='mean_squared_error',metrics=metrics)"
   ]
  },
  {
   "cell_type": "code",
   "execution_count": 16,
   "metadata": {},
   "outputs": [
    {
     "output_type": "stream",
     "name": "stdout",
     "text": [
      "Epoch 1/100\n",
      "WARNING:tensorflow:Model was constructed with shape (None, 70, 70) for input KerasTensor(type_spec=TensorSpec(shape=(None, 70, 70), dtype=tf.float32, name='dense_input'), name='dense_input', description=\"created by layer 'dense_input'\"), but it was called on an input with incompatible shape (None, 70).\n",
      "WARNING:tensorflow:Model was constructed with shape (None, 70, 70) for input KerasTensor(type_spec=TensorSpec(shape=(None, 70, 70), dtype=tf.float32, name='dense_input'), name='dense_input', description=\"created by layer 'dense_input'\"), but it was called on an input with incompatible shape (None, 70).\n",
      " 86/106 [=======================>......] - ETA: 0s - loss: 0.0908 - accuracy: 0.9434WARNING:tensorflow:Model was constructed with shape (None, 70, 70) for input KerasTensor(type_spec=TensorSpec(shape=(None, 70, 70), dtype=tf.float32, name='dense_input'), name='dense_input', description=\"created by layer 'dense_input'\"), but it was called on an input with incompatible shape (None, 70).\n",
      "106/106 [==============================] - 2s 18ms/step - loss: 0.0840 - accuracy: 0.9460 - val_loss: 0.0449 - val_accuracy: 0.9592\n",
      "Epoch 2/100\n",
      "106/106 [==============================] - 0s 3ms/step - loss: 0.0273 - accuracy: 0.9706 - val_loss: 0.0251 - val_accuracy: 0.9678\n",
      "Epoch 3/100\n",
      "106/106 [==============================] - 0s 3ms/step - loss: 0.0201 - accuracy: 0.9784 - val_loss: 0.0284 - val_accuracy: 0.9657\n",
      "Epoch 4/100\n",
      "106/106 [==============================] - 0s 2ms/step - loss: 0.0263 - accuracy: 0.9723 - val_loss: 0.0328 - val_accuracy: 0.9721\n",
      "Epoch 5/100\n",
      "106/106 [==============================] - 0s 2ms/step - loss: 0.0246 - accuracy: 0.9717 - val_loss: 0.0290 - val_accuracy: 0.9742\n",
      "Epoch 6/100\n",
      "106/106 [==============================] - 0s 2ms/step - loss: 0.0232 - accuracy: 0.9753 - val_loss: 0.0291 - val_accuracy: 0.9678\n",
      "Epoch 7/100\n",
      "106/106 [==============================] - 0s 2ms/step - loss: 0.0189 - accuracy: 0.9792 - val_loss: 0.0263 - val_accuracy: 0.9721\n",
      "Epoch 8/100\n",
      "106/106 [==============================] - 0s 3ms/step - loss: 0.0146 - accuracy: 0.9816 - val_loss: 0.0237 - val_accuracy: 0.9742\n",
      "Epoch 9/100\n",
      "106/106 [==============================] - 0s 5ms/step - loss: 0.0190 - accuracy: 0.9785 - val_loss: 0.0288 - val_accuracy: 0.9742\n",
      "Epoch 10/100\n",
      "106/106 [==============================] - 0s 4ms/step - loss: 0.0151 - accuracy: 0.9833 - val_loss: 0.0233 - val_accuracy: 0.9742\n",
      "Epoch 11/100\n",
      "106/106 [==============================] - 0s 2ms/step - loss: 0.0181 - accuracy: 0.9818 - val_loss: 0.0245 - val_accuracy: 0.9721\n",
      "Epoch 12/100\n",
      "106/106 [==============================] - 0s 2ms/step - loss: 0.0177 - accuracy: 0.9822 - val_loss: 0.0303 - val_accuracy: 0.9700\n",
      "Epoch 13/100\n",
      "106/106 [==============================] - 0s 2ms/step - loss: 0.0153 - accuracy: 0.9852 - val_loss: 0.0320 - val_accuracy: 0.9657\n",
      "Epoch 14/100\n",
      "106/106 [==============================] - 0s 2ms/step - loss: 0.0156 - accuracy: 0.9834 - val_loss: 0.0240 - val_accuracy: 0.9742\n",
      "Epoch 15/100\n",
      "106/106 [==============================] - 0s 2ms/step - loss: 0.0199 - accuracy: 0.9794 - val_loss: 0.0277 - val_accuracy: 0.9742\n",
      "Epoch 16/100\n",
      "106/106 [==============================] - 0s 3ms/step - loss: 0.0163 - accuracy: 0.9837 - val_loss: 0.0250 - val_accuracy: 0.9721\n",
      "Epoch 17/100\n",
      "106/106 [==============================] - 0s 2ms/step - loss: 0.0127 - accuracy: 0.9888 - val_loss: 0.0241 - val_accuracy: 0.9678\n",
      "Epoch 18/100\n",
      "106/106 [==============================] - 0s 2ms/step - loss: 0.0122 - accuracy: 0.9867 - val_loss: 0.0207 - val_accuracy: 0.9742\n",
      "Epoch 19/100\n",
      "106/106 [==============================] - 0s 2ms/step - loss: 0.0142 - accuracy: 0.9839 - val_loss: 0.0265 - val_accuracy: 0.9700\n",
      "Epoch 20/100\n",
      "106/106 [==============================] - 0s 2ms/step - loss: 0.0107 - accuracy: 0.9902 - val_loss: 0.0222 - val_accuracy: 0.9785\n",
      "Epoch 21/100\n",
      "106/106 [==============================] - 0s 2ms/step - loss: 0.0139 - accuracy: 0.9838 - val_loss: 0.0198 - val_accuracy: 0.9785\n",
      "Epoch 22/100\n",
      "106/106 [==============================] - 0s 2ms/step - loss: 0.0161 - accuracy: 0.9835 - val_loss: 0.0223 - val_accuracy: 0.9721\n",
      "Epoch 23/100\n",
      "106/106 [==============================] - 0s 2ms/step - loss: 0.0096 - accuracy: 0.9880 - val_loss: 0.0233 - val_accuracy: 0.9721\n",
      "Epoch 24/100\n",
      "106/106 [==============================] - 0s 2ms/step - loss: 0.0134 - accuracy: 0.9865 - val_loss: 0.0212 - val_accuracy: 0.9764\n",
      "Epoch 25/100\n",
      "106/106 [==============================] - 0s 2ms/step - loss: 0.0157 - accuracy: 0.9841 - val_loss: 0.0275 - val_accuracy: 0.9700\n",
      "Epoch 26/100\n",
      "106/106 [==============================] - 0s 2ms/step - loss: 0.0127 - accuracy: 0.9887 - val_loss: 0.0215 - val_accuracy: 0.9764\n",
      "Epoch 27/100\n",
      "106/106 [==============================] - 0s 2ms/step - loss: 0.0101 - accuracy: 0.9884 - val_loss: 0.0204 - val_accuracy: 0.9742\n",
      "Epoch 28/100\n",
      "106/106 [==============================] - 0s 2ms/step - loss: 0.0101 - accuracy: 0.9889 - val_loss: 0.0217 - val_accuracy: 0.9742\n",
      "Epoch 29/100\n",
      "106/106 [==============================] - 0s 2ms/step - loss: 0.0090 - accuracy: 0.9907 - val_loss: 0.0335 - val_accuracy: 0.9678\n",
      "Epoch 30/100\n",
      "106/106 [==============================] - 0s 2ms/step - loss: 0.0145 - accuracy: 0.9832 - val_loss: 0.0206 - val_accuracy: 0.9764\n",
      "Epoch 31/100\n",
      "106/106 [==============================] - 0s 2ms/step - loss: 0.0151 - accuracy: 0.9839 - val_loss: 0.0207 - val_accuracy: 0.9742\n",
      "Epoch 32/100\n",
      "106/106 [==============================] - 0s 2ms/step - loss: 0.0099 - accuracy: 0.9881 - val_loss: 0.0208 - val_accuracy: 0.9764\n",
      "Epoch 33/100\n",
      "106/106 [==============================] - 0s 2ms/step - loss: 0.0139 - accuracy: 0.9833 - val_loss: 0.0227 - val_accuracy: 0.9742\n",
      "Epoch 34/100\n",
      "106/106 [==============================] - 0s 2ms/step - loss: 0.0166 - accuracy: 0.9828 - val_loss: 0.0244 - val_accuracy: 0.9742\n",
      "Epoch 35/100\n",
      "106/106 [==============================] - 0s 2ms/step - loss: 0.0117 - accuracy: 0.9852 - val_loss: 0.0215 - val_accuracy: 0.9742\n",
      "Epoch 36/100\n",
      "106/106 [==============================] - 0s 2ms/step - loss: 0.0123 - accuracy: 0.9855 - val_loss: 0.0294 - val_accuracy: 0.9592\n",
      "Epoch 37/100\n",
      "106/106 [==============================] - 0s 2ms/step - loss: 0.0165 - accuracy: 0.9797 - val_loss: 0.0238 - val_accuracy: 0.9742\n",
      "Epoch 38/100\n",
      "106/106 [==============================] - 0s 2ms/step - loss: 0.0122 - accuracy: 0.9863 - val_loss: 0.0207 - val_accuracy: 0.9742\n",
      "Epoch 39/100\n",
      "106/106 [==============================] - 0s 2ms/step - loss: 0.0124 - accuracy: 0.9881 - val_loss: 0.0208 - val_accuracy: 0.9742\n",
      "Epoch 40/100\n",
      "106/106 [==============================] - 0s 2ms/step - loss: 0.0122 - accuracy: 0.9855 - val_loss: 0.0247 - val_accuracy: 0.9721\n",
      "Epoch 41/100\n",
      "106/106 [==============================] - 0s 2ms/step - loss: 0.0173 - accuracy: 0.9775 - val_loss: 0.0206 - val_accuracy: 0.9742\n",
      "Epoch 42/100\n",
      "106/106 [==============================] - 0s 3ms/step - loss: 0.0131 - accuracy: 0.9862 - val_loss: 0.0237 - val_accuracy: 0.9721\n",
      "Epoch 43/100\n",
      "106/106 [==============================] - 0s 2ms/step - loss: 0.0116 - accuracy: 0.9874 - val_loss: 0.0212 - val_accuracy: 0.9742\n",
      "Epoch 44/100\n",
      "106/106 [==============================] - 0s 2ms/step - loss: 0.0107 - accuracy: 0.9895 - val_loss: 0.0196 - val_accuracy: 0.9742\n",
      "Epoch 45/100\n",
      "106/106 [==============================] - 0s 2ms/step - loss: 0.0094 - accuracy: 0.9890 - val_loss: 0.0187 - val_accuracy: 0.9742\n",
      "Epoch 46/100\n",
      "106/106 [==============================] - 0s 2ms/step - loss: 0.0107 - accuracy: 0.9877 - val_loss: 0.0196 - val_accuracy: 0.9742\n",
      "Epoch 47/100\n",
      "106/106 [==============================] - 0s 2ms/step - loss: 0.0091 - accuracy: 0.9878 - val_loss: 0.0222 - val_accuracy: 0.9742\n",
      "Epoch 48/100\n",
      "106/106 [==============================] - 0s 2ms/step - loss: 0.0115 - accuracy: 0.9866 - val_loss: 0.0179 - val_accuracy: 0.9785\n",
      "Epoch 49/100\n",
      "106/106 [==============================] - 0s 2ms/step - loss: 0.0104 - accuracy: 0.9884 - val_loss: 0.0186 - val_accuracy: 0.9764\n",
      "Epoch 50/100\n",
      "106/106 [==============================] - 0s 2ms/step - loss: 0.0096 - accuracy: 0.9882 - val_loss: 0.0177 - val_accuracy: 0.9764\n",
      "Epoch 51/100\n",
      "106/106 [==============================] - 0s 2ms/step - loss: 0.0107 - accuracy: 0.9861 - val_loss: 0.0211 - val_accuracy: 0.9764\n",
      "Epoch 52/100\n",
      "106/106 [==============================] - 0s 2ms/step - loss: 0.0113 - accuracy: 0.9877 - val_loss: 0.0218 - val_accuracy: 0.9764\n",
      "Epoch 53/100\n",
      "106/106 [==============================] - 0s 2ms/step - loss: 0.0143 - accuracy: 0.9845 - val_loss: 0.0206 - val_accuracy: 0.9742\n",
      "Epoch 54/100\n",
      "106/106 [==============================] - 0s 2ms/step - loss: 0.0091 - accuracy: 0.9900 - val_loss: 0.0221 - val_accuracy: 0.9721\n",
      "Epoch 55/100\n",
      "106/106 [==============================] - 0s 2ms/step - loss: 0.0088 - accuracy: 0.9909 - val_loss: 0.0180 - val_accuracy: 0.9764\n",
      "Epoch 56/100\n",
      "106/106 [==============================] - 0s 2ms/step - loss: 0.0101 - accuracy: 0.9888 - val_loss: 0.0222 - val_accuracy: 0.9721\n",
      "Epoch 57/100\n",
      "106/106 [==============================] - 0s 2ms/step - loss: 0.0138 - accuracy: 0.9840 - val_loss: 0.0205 - val_accuracy: 0.9742\n",
      "Epoch 58/100\n",
      "106/106 [==============================] - 0s 2ms/step - loss: 0.0084 - accuracy: 0.9901 - val_loss: 0.0182 - val_accuracy: 0.9764\n",
      "Epoch 59/100\n",
      "106/106 [==============================] - 0s 2ms/step - loss: 0.0093 - accuracy: 0.9900 - val_loss: 0.0227 - val_accuracy: 0.9700\n",
      "Epoch 60/100\n",
      "106/106 [==============================] - 0s 2ms/step - loss: 0.0103 - accuracy: 0.9895 - val_loss: 0.0238 - val_accuracy: 0.9742\n",
      "Epoch 61/100\n",
      "106/106 [==============================] - 0s 2ms/step - loss: 0.0091 - accuracy: 0.9893 - val_loss: 0.0233 - val_accuracy: 0.9678\n",
      "Epoch 62/100\n",
      "106/106 [==============================] - 0s 2ms/step - loss: 0.0118 - accuracy: 0.9846 - val_loss: 0.0203 - val_accuracy: 0.9742\n",
      "Epoch 63/100\n",
      "106/106 [==============================] - 0s 2ms/step - loss: 0.0095 - accuracy: 0.9892 - val_loss: 0.0215 - val_accuracy: 0.9742\n",
      "Epoch 64/100\n",
      "106/106 [==============================] - 0s 2ms/step - loss: 0.0103 - accuracy: 0.9860 - val_loss: 0.0197 - val_accuracy: 0.9721\n",
      "Epoch 65/100\n",
      "106/106 [==============================] - 0s 3ms/step - loss: 0.0095 - accuracy: 0.9876 - val_loss: 0.0296 - val_accuracy: 0.9614\n",
      "Epoch 66/100\n",
      "106/106 [==============================] - 0s 2ms/step - loss: 0.0144 - accuracy: 0.9815 - val_loss: 0.0185 - val_accuracy: 0.9742\n",
      "Epoch 67/100\n",
      "106/106 [==============================] - 0s 2ms/step - loss: 0.0109 - accuracy: 0.9856 - val_loss: 0.0256 - val_accuracy: 0.9700\n",
      "Epoch 68/100\n",
      "106/106 [==============================] - 0s 2ms/step - loss: 0.0120 - accuracy: 0.9872 - val_loss: 0.0200 - val_accuracy: 0.9742\n",
      "Epoch 69/100\n",
      "106/106 [==============================] - 0s 2ms/step - loss: 0.0130 - accuracy: 0.9849 - val_loss: 0.0223 - val_accuracy: 0.9721\n",
      "Epoch 70/100\n",
      "106/106 [==============================] - 0s 2ms/step - loss: 0.0151 - accuracy: 0.9829 - val_loss: 0.0214 - val_accuracy: 0.9742\n",
      "Epoch 71/100\n",
      "106/106 [==============================] - 0s 2ms/step - loss: 0.0120 - accuracy: 0.9861 - val_loss: 0.0180 - val_accuracy: 0.9764\n",
      "Epoch 72/100\n",
      "106/106 [==============================] - 0s 2ms/step - loss: 0.0060 - accuracy: 0.9929 - val_loss: 0.0160 - val_accuracy: 0.9785\n",
      "Epoch 73/100\n",
      "106/106 [==============================] - 0s 2ms/step - loss: 0.0073 - accuracy: 0.9908 - val_loss: 0.0181 - val_accuracy: 0.9785\n",
      "Epoch 74/100\n",
      "106/106 [==============================] - 0s 2ms/step - loss: 0.0056 - accuracy: 0.9949 - val_loss: 0.0154 - val_accuracy: 0.9785\n",
      "Epoch 75/100\n",
      "106/106 [==============================] - 0s 2ms/step - loss: 0.0097 - accuracy: 0.9894 - val_loss: 0.0199 - val_accuracy: 0.9764\n",
      "Epoch 76/100\n",
      "106/106 [==============================] - 0s 2ms/step - loss: 0.0084 - accuracy: 0.9912 - val_loss: 0.0164 - val_accuracy: 0.9785\n",
      "Epoch 77/100\n",
      "106/106 [==============================] - 0s 2ms/step - loss: 0.0076 - accuracy: 0.9908 - val_loss: 0.0181 - val_accuracy: 0.9764\n",
      "Epoch 78/100\n",
      "106/106 [==============================] - 0s 2ms/step - loss: 0.0095 - accuracy: 0.9885 - val_loss: 0.0160 - val_accuracy: 0.9764\n",
      "Epoch 79/100\n",
      "106/106 [==============================] - 0s 3ms/step - loss: 0.0085 - accuracy: 0.9902 - val_loss: 0.0194 - val_accuracy: 0.9764\n",
      "Epoch 80/100\n",
      "106/106 [==============================] - 0s 2ms/step - loss: 0.0101 - accuracy: 0.9892 - val_loss: 0.0184 - val_accuracy: 0.9721\n",
      "Epoch 81/100\n",
      "106/106 [==============================] - 0s 2ms/step - loss: 0.0078 - accuracy: 0.9912 - val_loss: 0.0168 - val_accuracy: 0.9742\n",
      "Epoch 82/100\n",
      "106/106 [==============================] - 0s 2ms/step - loss: 0.0112 - accuracy: 0.9873 - val_loss: 0.0174 - val_accuracy: 0.9764\n",
      "Epoch 83/100\n",
      "106/106 [==============================] - 0s 2ms/step - loss: 0.0083 - accuracy: 0.9909 - val_loss: 0.0172 - val_accuracy: 0.9764\n",
      "Epoch 84/100\n",
      "106/106 [==============================] - 0s 2ms/step - loss: 0.0093 - accuracy: 0.9874 - val_loss: 0.0223 - val_accuracy: 0.9657\n",
      "Epoch 85/100\n",
      "106/106 [==============================] - 0s 2ms/step - loss: 0.0124 - accuracy: 0.9853 - val_loss: 0.0190 - val_accuracy: 0.9764\n",
      "Epoch 86/100\n",
      "106/106 [==============================] - 0s 2ms/step - loss: 0.0072 - accuracy: 0.9921 - val_loss: 0.0197 - val_accuracy: 0.9721\n",
      "Epoch 87/100\n",
      "106/106 [==============================] - 0s 2ms/step - loss: 0.0101 - accuracy: 0.9911 - val_loss: 0.0183 - val_accuracy: 0.9764\n",
      "Epoch 88/100\n",
      "106/106 [==============================] - 0s 2ms/step - loss: 0.0079 - accuracy: 0.9918 - val_loss: 0.0183 - val_accuracy: 0.9764\n",
      "Epoch 89/100\n",
      "106/106 [==============================] - 0s 2ms/step - loss: 0.0098 - accuracy: 0.9890 - val_loss: 0.0171 - val_accuracy: 0.9764\n",
      "Epoch 90/100\n",
      "106/106 [==============================] - 0s 2ms/step - loss: 0.0070 - accuracy: 0.9910 - val_loss: 0.0158 - val_accuracy: 0.9807\n",
      "Epoch 91/100\n",
      "106/106 [==============================] - 0s 2ms/step - loss: 0.0099 - accuracy: 0.9877 - val_loss: 0.0185 - val_accuracy: 0.9742\n",
      "Epoch 92/100\n",
      "106/106 [==============================] - 0s 2ms/step - loss: 0.0099 - accuracy: 0.9862 - val_loss: 0.0137 - val_accuracy: 0.9807\n",
      "Epoch 93/100\n",
      "106/106 [==============================] - 0s 2ms/step - loss: 0.0069 - accuracy: 0.9918 - val_loss: 0.0154 - val_accuracy: 0.9807\n",
      "Epoch 94/100\n",
      "106/106 [==============================] - 0s 2ms/step - loss: 0.0075 - accuracy: 0.9909 - val_loss: 0.0164 - val_accuracy: 0.9764\n",
      "Epoch 95/100\n",
      "106/106 [==============================] - 0s 2ms/step - loss: 0.0085 - accuracy: 0.9906 - val_loss: 0.0151 - val_accuracy: 0.9807\n",
      "Epoch 96/100\n",
      "106/106 [==============================] - 0s 2ms/step - loss: 0.0088 - accuracy: 0.9892 - val_loss: 0.0179 - val_accuracy: 0.9764\n",
      "Epoch 97/100\n",
      "106/106 [==============================] - 0s 2ms/step - loss: 0.0085 - accuracy: 0.9912 - val_loss: 0.0158 - val_accuracy: 0.9807\n",
      "Epoch 98/100\n",
      "106/106 [==============================] - 0s 2ms/step - loss: 0.0086 - accuracy: 0.9904 - val_loss: 0.0140 - val_accuracy: 0.9828\n",
      "Epoch 99/100\n",
      "106/106 [==============================] - 0s 2ms/step - loss: 0.0050 - accuracy: 0.9943 - val_loss: 0.0143 - val_accuracy: 0.9785\n",
      "Epoch 100/100\n",
      "106/106 [==============================] - 0s 3ms/step - loss: 0.0077 - accuracy: 0.9898 - val_loss: 0.0188 - val_accuracy: 0.9764\n"
     ]
    }
   ],
   "source": [
    "epochs_hist = model.fit(X_train, y_train, epochs=100, batch_size=25,  verbose=1, validation_split=0.15)"
   ]
  },
  {
   "cell_type": "code",
   "execution_count": 17,
   "metadata": {},
   "outputs": [
    {
     "output_type": "stream",
     "name": "stdout",
     "text": [
      "dict_keys(['loss', 'accuracy', 'val_loss', 'val_accuracy'])\n"
     ]
    }
   ],
   "source": [
    "print(epochs_hist.history.keys())"
   ]
  },
  {
   "cell_type": "code",
   "execution_count": 18,
   "metadata": {},
   "outputs": [
    {
     "output_type": "execute_result",
     "data": {
      "text/plain": [
       "<matplotlib.legend.Legend at 0x196591c2a00>"
      ]
     },
     "metadata": {},
     "execution_count": 18
    },
    {
     "output_type": "display_data",
     "data": {
      "text/plain": "<Figure size 432x288 with 1 Axes>",
      "image/svg+xml": "<?xml version=\"1.0\" encoding=\"utf-8\" standalone=\"no\"?>\r\n<!DOCTYPE svg PUBLIC \"-//W3C//DTD SVG 1.1//EN\"\r\n  \"http://www.w3.org/Graphics/SVG/1.1/DTD/svg11.dtd\">\r\n<!-- Created with matplotlib (https://matplotlib.org/) -->\r\n<svg height=\"277.314375pt\" version=\"1.1\" viewBox=\"0 0 392.14375 277.314375\" width=\"392.14375pt\" xmlns=\"http://www.w3.org/2000/svg\" xmlns:xlink=\"http://www.w3.org/1999/xlink\">\r\n <metadata>\r\n  <rdf:RDF xmlns:cc=\"http://creativecommons.org/ns#\" xmlns:dc=\"http://purl.org/dc/elements/1.1/\" xmlns:rdf=\"http://www.w3.org/1999/02/22-rdf-syntax-ns#\">\r\n   <cc:Work>\r\n    <dc:type rdf:resource=\"http://purl.org/dc/dcmitype/StillImage\"/>\r\n    <dc:date>2020-12-27T22:18:35.561880</dc:date>\r\n    <dc:format>image/svg+xml</dc:format>\r\n    <dc:creator>\r\n     <cc:Agent>\r\n      <dc:title>Matplotlib v3.3.3, https://matplotlib.org/</dc:title>\r\n     </cc:Agent>\r\n    </dc:creator>\r\n   </cc:Work>\r\n  </rdf:RDF>\r\n </metadata>\r\n <defs>\r\n  <style type=\"text/css\">*{stroke-linecap:butt;stroke-linejoin:round;}</style>\r\n </defs>\r\n <g id=\"figure_1\">\r\n  <g id=\"patch_1\">\r\n   <path d=\"M -0 277.314375 \r\nL 392.14375 277.314375 \r\nL 392.14375 0 \r\nL -0 0 \r\nz\r\n\" style=\"fill:none;\"/>\r\n  </g>\r\n  <g id=\"axes_1\">\r\n   <g id=\"patch_2\">\r\n    <path d=\"M 50.14375 239.758125 \r\nL 384.94375 239.758125 \r\nL 384.94375 22.318125 \r\nL 50.14375 22.318125 \r\nz\r\n\" style=\"fill:#ffffff;\"/>\r\n   </g>\r\n   <g id=\"matplotlib.axis_1\">\r\n    <g id=\"xtick_1\">\r\n     <g id=\"line2d_1\">\r\n      <defs>\r\n       <path d=\"M 0 0 \r\nL 0 3.5 \r\n\" id=\"md79f721a68\" style=\"stroke:#000000;stroke-width:0.8;\"/>\r\n      </defs>\r\n      <g>\r\n       <use style=\"stroke:#000000;stroke-width:0.8;\" x=\"65.361932\" xlink:href=\"#md79f721a68\" y=\"239.758125\"/>\r\n      </g>\r\n     </g>\r\n     <g id=\"text_1\">\r\n      <!-- 0 -->\r\n      <g transform=\"translate(62.180682 254.356562)scale(0.1 -0.1)\">\r\n       <defs>\r\n        <path d=\"M 31.78125 66.40625 \r\nQ 24.171875 66.40625 20.328125 58.90625 \r\nQ 16.5 51.421875 16.5 36.375 \r\nQ 16.5 21.390625 20.328125 13.890625 \r\nQ 24.171875 6.390625 31.78125 6.390625 \r\nQ 39.453125 6.390625 43.28125 13.890625 \r\nQ 47.125 21.390625 47.125 36.375 \r\nQ 47.125 51.421875 43.28125 58.90625 \r\nQ 39.453125 66.40625 31.78125 66.40625 \r\nz\r\nM 31.78125 74.21875 \r\nQ 44.046875 74.21875 50.515625 64.515625 \r\nQ 56.984375 54.828125 56.984375 36.375 \r\nQ 56.984375 17.96875 50.515625 8.265625 \r\nQ 44.046875 -1.421875 31.78125 -1.421875 \r\nQ 19.53125 -1.421875 13.0625 8.265625 \r\nQ 6.59375 17.96875 6.59375 36.375 \r\nQ 6.59375 54.828125 13.0625 64.515625 \r\nQ 19.53125 74.21875 31.78125 74.21875 \r\nz\r\n\" id=\"DejaVuSans-48\"/>\r\n       </defs>\r\n       <use xlink:href=\"#DejaVuSans-48\"/>\r\n      </g>\r\n     </g>\r\n    </g>\r\n    <g id=\"xtick_2\">\r\n     <g id=\"line2d_2\">\r\n      <g>\r\n       <use style=\"stroke:#000000;stroke-width:0.8;\" x=\"126.849535\" xlink:href=\"#md79f721a68\" y=\"239.758125\"/>\r\n      </g>\r\n     </g>\r\n     <g id=\"text_2\">\r\n      <!-- 20 -->\r\n      <g transform=\"translate(120.487035 254.356562)scale(0.1 -0.1)\">\r\n       <defs>\r\n        <path d=\"M 19.1875 8.296875 \r\nL 53.609375 8.296875 \r\nL 53.609375 0 \r\nL 7.328125 0 \r\nL 7.328125 8.296875 \r\nQ 12.9375 14.109375 22.625 23.890625 \r\nQ 32.328125 33.6875 34.8125 36.53125 \r\nQ 39.546875 41.84375 41.421875 45.53125 \r\nQ 43.3125 49.21875 43.3125 52.78125 \r\nQ 43.3125 58.59375 39.234375 62.25 \r\nQ 35.15625 65.921875 28.609375 65.921875 \r\nQ 23.96875 65.921875 18.8125 64.3125 \r\nQ 13.671875 62.703125 7.8125 59.421875 \r\nL 7.8125 69.390625 \r\nQ 13.765625 71.78125 18.9375 73 \r\nQ 24.125 74.21875 28.421875 74.21875 \r\nQ 39.75 74.21875 46.484375 68.546875 \r\nQ 53.21875 62.890625 53.21875 53.421875 \r\nQ 53.21875 48.921875 51.53125 44.890625 \r\nQ 49.859375 40.875 45.40625 35.40625 \r\nQ 44.1875 33.984375 37.640625 27.21875 \r\nQ 31.109375 20.453125 19.1875 8.296875 \r\nz\r\n\" id=\"DejaVuSans-50\"/>\r\n       </defs>\r\n       <use xlink:href=\"#DejaVuSans-50\"/>\r\n       <use x=\"63.623047\" xlink:href=\"#DejaVuSans-48\"/>\r\n      </g>\r\n     </g>\r\n    </g>\r\n    <g id=\"xtick_3\">\r\n     <g id=\"line2d_3\">\r\n      <g>\r\n       <use style=\"stroke:#000000;stroke-width:0.8;\" x=\"188.337138\" xlink:href=\"#md79f721a68\" y=\"239.758125\"/>\r\n      </g>\r\n     </g>\r\n     <g id=\"text_3\">\r\n      <!-- 40 -->\r\n      <g transform=\"translate(181.974638 254.356562)scale(0.1 -0.1)\">\r\n       <defs>\r\n        <path d=\"M 37.796875 64.3125 \r\nL 12.890625 25.390625 \r\nL 37.796875 25.390625 \r\nz\r\nM 35.203125 72.90625 \r\nL 47.609375 72.90625 \r\nL 47.609375 25.390625 \r\nL 58.015625 25.390625 \r\nL 58.015625 17.1875 \r\nL 47.609375 17.1875 \r\nL 47.609375 0 \r\nL 37.796875 0 \r\nL 37.796875 17.1875 \r\nL 4.890625 17.1875 \r\nL 4.890625 26.703125 \r\nz\r\n\" id=\"DejaVuSans-52\"/>\r\n       </defs>\r\n       <use xlink:href=\"#DejaVuSans-52\"/>\r\n       <use x=\"63.623047\" xlink:href=\"#DejaVuSans-48\"/>\r\n      </g>\r\n     </g>\r\n    </g>\r\n    <g id=\"xtick_4\">\r\n     <g id=\"line2d_4\">\r\n      <g>\r\n       <use style=\"stroke:#000000;stroke-width:0.8;\" x=\"249.824742\" xlink:href=\"#md79f721a68\" y=\"239.758125\"/>\r\n      </g>\r\n     </g>\r\n     <g id=\"text_4\">\r\n      <!-- 60 -->\r\n      <g transform=\"translate(243.462242 254.356562)scale(0.1 -0.1)\">\r\n       <defs>\r\n        <path d=\"M 33.015625 40.375 \r\nQ 26.375 40.375 22.484375 35.828125 \r\nQ 18.609375 31.296875 18.609375 23.390625 \r\nQ 18.609375 15.53125 22.484375 10.953125 \r\nQ 26.375 6.390625 33.015625 6.390625 \r\nQ 39.65625 6.390625 43.53125 10.953125 \r\nQ 47.40625 15.53125 47.40625 23.390625 \r\nQ 47.40625 31.296875 43.53125 35.828125 \r\nQ 39.65625 40.375 33.015625 40.375 \r\nz\r\nM 52.59375 71.296875 \r\nL 52.59375 62.3125 \r\nQ 48.875 64.0625 45.09375 64.984375 \r\nQ 41.3125 65.921875 37.59375 65.921875 \r\nQ 27.828125 65.921875 22.671875 59.328125 \r\nQ 17.53125 52.734375 16.796875 39.40625 \r\nQ 19.671875 43.65625 24.015625 45.921875 \r\nQ 28.375 48.1875 33.59375 48.1875 \r\nQ 44.578125 48.1875 50.953125 41.515625 \r\nQ 57.328125 34.859375 57.328125 23.390625 \r\nQ 57.328125 12.15625 50.6875 5.359375 \r\nQ 44.046875 -1.421875 33.015625 -1.421875 \r\nQ 20.359375 -1.421875 13.671875 8.265625 \r\nQ 6.984375 17.96875 6.984375 36.375 \r\nQ 6.984375 53.65625 15.1875 63.9375 \r\nQ 23.390625 74.21875 37.203125 74.21875 \r\nQ 40.921875 74.21875 44.703125 73.484375 \r\nQ 48.484375 72.75 52.59375 71.296875 \r\nz\r\n\" id=\"DejaVuSans-54\"/>\r\n       </defs>\r\n       <use xlink:href=\"#DejaVuSans-54\"/>\r\n       <use x=\"63.623047\" xlink:href=\"#DejaVuSans-48\"/>\r\n      </g>\r\n     </g>\r\n    </g>\r\n    <g id=\"xtick_5\">\r\n     <g id=\"line2d_5\">\r\n      <g>\r\n       <use style=\"stroke:#000000;stroke-width:0.8;\" x=\"311.312345\" xlink:href=\"#md79f721a68\" y=\"239.758125\"/>\r\n      </g>\r\n     </g>\r\n     <g id=\"text_5\">\r\n      <!-- 80 -->\r\n      <g transform=\"translate(304.949845 254.356562)scale(0.1 -0.1)\">\r\n       <defs>\r\n        <path d=\"M 31.78125 34.625 \r\nQ 24.75 34.625 20.71875 30.859375 \r\nQ 16.703125 27.09375 16.703125 20.515625 \r\nQ 16.703125 13.921875 20.71875 10.15625 \r\nQ 24.75 6.390625 31.78125 6.390625 \r\nQ 38.8125 6.390625 42.859375 10.171875 \r\nQ 46.921875 13.96875 46.921875 20.515625 \r\nQ 46.921875 27.09375 42.890625 30.859375 \r\nQ 38.875 34.625 31.78125 34.625 \r\nz\r\nM 21.921875 38.8125 \r\nQ 15.578125 40.375 12.03125 44.71875 \r\nQ 8.5 49.078125 8.5 55.328125 \r\nQ 8.5 64.0625 14.71875 69.140625 \r\nQ 20.953125 74.21875 31.78125 74.21875 \r\nQ 42.671875 74.21875 48.875 69.140625 \r\nQ 55.078125 64.0625 55.078125 55.328125 \r\nQ 55.078125 49.078125 51.53125 44.71875 \r\nQ 48 40.375 41.703125 38.8125 \r\nQ 48.828125 37.15625 52.796875 32.3125 \r\nQ 56.78125 27.484375 56.78125 20.515625 \r\nQ 56.78125 9.90625 50.3125 4.234375 \r\nQ 43.84375 -1.421875 31.78125 -1.421875 \r\nQ 19.734375 -1.421875 13.25 4.234375 \r\nQ 6.78125 9.90625 6.78125 20.515625 \r\nQ 6.78125 27.484375 10.78125 32.3125 \r\nQ 14.796875 37.15625 21.921875 38.8125 \r\nz\r\nM 18.3125 54.390625 \r\nQ 18.3125 48.734375 21.84375 45.5625 \r\nQ 25.390625 42.390625 31.78125 42.390625 \r\nQ 38.140625 42.390625 41.71875 45.5625 \r\nQ 45.3125 48.734375 45.3125 54.390625 \r\nQ 45.3125 60.0625 41.71875 63.234375 \r\nQ 38.140625 66.40625 31.78125 66.40625 \r\nQ 25.390625 66.40625 21.84375 63.234375 \r\nQ 18.3125 60.0625 18.3125 54.390625 \r\nz\r\n\" id=\"DejaVuSans-56\"/>\r\n       </defs>\r\n       <use xlink:href=\"#DejaVuSans-56\"/>\r\n       <use x=\"63.623047\" xlink:href=\"#DejaVuSans-48\"/>\r\n      </g>\r\n     </g>\r\n    </g>\r\n    <g id=\"xtick_6\">\r\n     <g id=\"line2d_6\">\r\n      <g>\r\n       <use style=\"stroke:#000000;stroke-width:0.8;\" x=\"372.799948\" xlink:href=\"#md79f721a68\" y=\"239.758125\"/>\r\n      </g>\r\n     </g>\r\n     <g id=\"text_6\">\r\n      <!-- 100 -->\r\n      <g transform=\"translate(363.256198 254.356562)scale(0.1 -0.1)\">\r\n       <defs>\r\n        <path d=\"M 12.40625 8.296875 \r\nL 28.515625 8.296875 \r\nL 28.515625 63.921875 \r\nL 10.984375 60.40625 \r\nL 10.984375 69.390625 \r\nL 28.421875 72.90625 \r\nL 38.28125 72.90625 \r\nL 38.28125 8.296875 \r\nL 54.390625 8.296875 \r\nL 54.390625 0 \r\nL 12.40625 0 \r\nz\r\n\" id=\"DejaVuSans-49\"/>\r\n       </defs>\r\n       <use xlink:href=\"#DejaVuSans-49\"/>\r\n       <use x=\"63.623047\" xlink:href=\"#DejaVuSans-48\"/>\r\n       <use x=\"127.246094\" xlink:href=\"#DejaVuSans-48\"/>\r\n      </g>\r\n     </g>\r\n    </g>\r\n    <g id=\"text_7\">\r\n     <!-- Epoch Number -->\r\n     <g transform=\"translate(180.557813 268.034687)scale(0.1 -0.1)\">\r\n      <defs>\r\n       <path d=\"M 9.8125 72.90625 \r\nL 55.90625 72.90625 \r\nL 55.90625 64.59375 \r\nL 19.671875 64.59375 \r\nL 19.671875 43.015625 \r\nL 54.390625 43.015625 \r\nL 54.390625 34.71875 \r\nL 19.671875 34.71875 \r\nL 19.671875 8.296875 \r\nL 56.78125 8.296875 \r\nL 56.78125 0 \r\nL 9.8125 0 \r\nz\r\n\" id=\"DejaVuSans-69\"/>\r\n       <path d=\"M 18.109375 8.203125 \r\nL 18.109375 -20.796875 \r\nL 9.078125 -20.796875 \r\nL 9.078125 54.6875 \r\nL 18.109375 54.6875 \r\nL 18.109375 46.390625 \r\nQ 20.953125 51.265625 25.265625 53.625 \r\nQ 29.59375 56 35.59375 56 \r\nQ 45.5625 56 51.78125 48.09375 \r\nQ 58.015625 40.1875 58.015625 27.296875 \r\nQ 58.015625 14.40625 51.78125 6.484375 \r\nQ 45.5625 -1.421875 35.59375 -1.421875 \r\nQ 29.59375 -1.421875 25.265625 0.953125 \r\nQ 20.953125 3.328125 18.109375 8.203125 \r\nz\r\nM 48.6875 27.296875 \r\nQ 48.6875 37.203125 44.609375 42.84375 \r\nQ 40.53125 48.484375 33.40625 48.484375 \r\nQ 26.265625 48.484375 22.1875 42.84375 \r\nQ 18.109375 37.203125 18.109375 27.296875 \r\nQ 18.109375 17.390625 22.1875 11.75 \r\nQ 26.265625 6.109375 33.40625 6.109375 \r\nQ 40.53125 6.109375 44.609375 11.75 \r\nQ 48.6875 17.390625 48.6875 27.296875 \r\nz\r\n\" id=\"DejaVuSans-112\"/>\r\n       <path d=\"M 30.609375 48.390625 \r\nQ 23.390625 48.390625 19.1875 42.75 \r\nQ 14.984375 37.109375 14.984375 27.296875 \r\nQ 14.984375 17.484375 19.15625 11.84375 \r\nQ 23.34375 6.203125 30.609375 6.203125 \r\nQ 37.796875 6.203125 41.984375 11.859375 \r\nQ 46.1875 17.53125 46.1875 27.296875 \r\nQ 46.1875 37.015625 41.984375 42.703125 \r\nQ 37.796875 48.390625 30.609375 48.390625 \r\nz\r\nM 30.609375 56 \r\nQ 42.328125 56 49.015625 48.375 \r\nQ 55.71875 40.765625 55.71875 27.296875 \r\nQ 55.71875 13.875 49.015625 6.21875 \r\nQ 42.328125 -1.421875 30.609375 -1.421875 \r\nQ 18.84375 -1.421875 12.171875 6.21875 \r\nQ 5.515625 13.875 5.515625 27.296875 \r\nQ 5.515625 40.765625 12.171875 48.375 \r\nQ 18.84375 56 30.609375 56 \r\nz\r\n\" id=\"DejaVuSans-111\"/>\r\n       <path d=\"M 48.78125 52.59375 \r\nL 48.78125 44.1875 \r\nQ 44.96875 46.296875 41.140625 47.34375 \r\nQ 37.3125 48.390625 33.40625 48.390625 \r\nQ 24.65625 48.390625 19.8125 42.84375 \r\nQ 14.984375 37.3125 14.984375 27.296875 \r\nQ 14.984375 17.28125 19.8125 11.734375 \r\nQ 24.65625 6.203125 33.40625 6.203125 \r\nQ 37.3125 6.203125 41.140625 7.25 \r\nQ 44.96875 8.296875 48.78125 10.40625 \r\nL 48.78125 2.09375 \r\nQ 45.015625 0.34375 40.984375 -0.53125 \r\nQ 36.96875 -1.421875 32.421875 -1.421875 \r\nQ 20.0625 -1.421875 12.78125 6.34375 \r\nQ 5.515625 14.109375 5.515625 27.296875 \r\nQ 5.515625 40.671875 12.859375 48.328125 \r\nQ 20.21875 56 33.015625 56 \r\nQ 37.15625 56 41.109375 55.140625 \r\nQ 45.0625 54.296875 48.78125 52.59375 \r\nz\r\n\" id=\"DejaVuSans-99\"/>\r\n       <path d=\"M 54.890625 33.015625 \r\nL 54.890625 0 \r\nL 45.90625 0 \r\nL 45.90625 32.71875 \r\nQ 45.90625 40.484375 42.875 44.328125 \r\nQ 39.84375 48.1875 33.796875 48.1875 \r\nQ 26.515625 48.1875 22.3125 43.546875 \r\nQ 18.109375 38.921875 18.109375 30.90625 \r\nL 18.109375 0 \r\nL 9.078125 0 \r\nL 9.078125 75.984375 \r\nL 18.109375 75.984375 \r\nL 18.109375 46.1875 \r\nQ 21.34375 51.125 25.703125 53.5625 \r\nQ 30.078125 56 35.796875 56 \r\nQ 45.21875 56 50.046875 50.171875 \r\nQ 54.890625 44.34375 54.890625 33.015625 \r\nz\r\n\" id=\"DejaVuSans-104\"/>\r\n       <path id=\"DejaVuSans-32\"/>\r\n       <path d=\"M 9.8125 72.90625 \r\nL 23.09375 72.90625 \r\nL 55.421875 11.921875 \r\nL 55.421875 72.90625 \r\nL 64.984375 72.90625 \r\nL 64.984375 0 \r\nL 51.703125 0 \r\nL 19.390625 60.984375 \r\nL 19.390625 0 \r\nL 9.8125 0 \r\nz\r\n\" id=\"DejaVuSans-78\"/>\r\n       <path d=\"M 8.5 21.578125 \r\nL 8.5 54.6875 \r\nL 17.484375 54.6875 \r\nL 17.484375 21.921875 \r\nQ 17.484375 14.15625 20.5 10.265625 \r\nQ 23.53125 6.390625 29.59375 6.390625 \r\nQ 36.859375 6.390625 41.078125 11.03125 \r\nQ 45.3125 15.671875 45.3125 23.6875 \r\nL 45.3125 54.6875 \r\nL 54.296875 54.6875 \r\nL 54.296875 0 \r\nL 45.3125 0 \r\nL 45.3125 8.40625 \r\nQ 42.046875 3.421875 37.71875 1 \r\nQ 33.40625 -1.421875 27.6875 -1.421875 \r\nQ 18.265625 -1.421875 13.375 4.4375 \r\nQ 8.5 10.296875 8.5 21.578125 \r\nz\r\nM 31.109375 56 \r\nz\r\n\" id=\"DejaVuSans-117\"/>\r\n       <path d=\"M 52 44.1875 \r\nQ 55.375 50.25 60.0625 53.125 \r\nQ 64.75 56 71.09375 56 \r\nQ 79.640625 56 84.28125 50.015625 \r\nQ 88.921875 44.046875 88.921875 33.015625 \r\nL 88.921875 0 \r\nL 79.890625 0 \r\nL 79.890625 32.71875 \r\nQ 79.890625 40.578125 77.09375 44.375 \r\nQ 74.3125 48.1875 68.609375 48.1875 \r\nQ 61.625 48.1875 57.5625 43.546875 \r\nQ 53.515625 38.921875 53.515625 30.90625 \r\nL 53.515625 0 \r\nL 44.484375 0 \r\nL 44.484375 32.71875 \r\nQ 44.484375 40.625 41.703125 44.40625 \r\nQ 38.921875 48.1875 33.109375 48.1875 \r\nQ 26.21875 48.1875 22.15625 43.53125 \r\nQ 18.109375 38.875 18.109375 30.90625 \r\nL 18.109375 0 \r\nL 9.078125 0 \r\nL 9.078125 54.6875 \r\nL 18.109375 54.6875 \r\nL 18.109375 46.1875 \r\nQ 21.1875 51.21875 25.484375 53.609375 \r\nQ 29.78125 56 35.6875 56 \r\nQ 41.65625 56 45.828125 52.96875 \r\nQ 50 49.953125 52 44.1875 \r\nz\r\n\" id=\"DejaVuSans-109\"/>\r\n       <path d=\"M 48.6875 27.296875 \r\nQ 48.6875 37.203125 44.609375 42.84375 \r\nQ 40.53125 48.484375 33.40625 48.484375 \r\nQ 26.265625 48.484375 22.1875 42.84375 \r\nQ 18.109375 37.203125 18.109375 27.296875 \r\nQ 18.109375 17.390625 22.1875 11.75 \r\nQ 26.265625 6.109375 33.40625 6.109375 \r\nQ 40.53125 6.109375 44.609375 11.75 \r\nQ 48.6875 17.390625 48.6875 27.296875 \r\nz\r\nM 18.109375 46.390625 \r\nQ 20.953125 51.265625 25.265625 53.625 \r\nQ 29.59375 56 35.59375 56 \r\nQ 45.5625 56 51.78125 48.09375 \r\nQ 58.015625 40.1875 58.015625 27.296875 \r\nQ 58.015625 14.40625 51.78125 6.484375 \r\nQ 45.5625 -1.421875 35.59375 -1.421875 \r\nQ 29.59375 -1.421875 25.265625 0.953125 \r\nQ 20.953125 3.328125 18.109375 8.203125 \r\nL 18.109375 0 \r\nL 9.078125 0 \r\nL 9.078125 75.984375 \r\nL 18.109375 75.984375 \r\nz\r\n\" id=\"DejaVuSans-98\"/>\r\n       <path d=\"M 56.203125 29.59375 \r\nL 56.203125 25.203125 \r\nL 14.890625 25.203125 \r\nQ 15.484375 15.921875 20.484375 11.0625 \r\nQ 25.484375 6.203125 34.421875 6.203125 \r\nQ 39.59375 6.203125 44.453125 7.46875 \r\nQ 49.3125 8.734375 54.109375 11.28125 \r\nL 54.109375 2.78125 \r\nQ 49.265625 0.734375 44.1875 -0.34375 \r\nQ 39.109375 -1.421875 33.890625 -1.421875 \r\nQ 20.796875 -1.421875 13.15625 6.1875 \r\nQ 5.515625 13.8125 5.515625 26.8125 \r\nQ 5.515625 40.234375 12.765625 48.109375 \r\nQ 20.015625 56 32.328125 56 \r\nQ 43.359375 56 49.78125 48.890625 \r\nQ 56.203125 41.796875 56.203125 29.59375 \r\nz\r\nM 47.21875 32.234375 \r\nQ 47.125 39.59375 43.09375 43.984375 \r\nQ 39.0625 48.390625 32.421875 48.390625 \r\nQ 24.90625 48.390625 20.390625 44.140625 \r\nQ 15.875 39.890625 15.1875 32.171875 \r\nz\r\n\" id=\"DejaVuSans-101\"/>\r\n       <path d=\"M 41.109375 46.296875 \r\nQ 39.59375 47.171875 37.8125 47.578125 \r\nQ 36.03125 48 33.890625 48 \r\nQ 26.265625 48 22.1875 43.046875 \r\nQ 18.109375 38.09375 18.109375 28.8125 \r\nL 18.109375 0 \r\nL 9.078125 0 \r\nL 9.078125 54.6875 \r\nL 18.109375 54.6875 \r\nL 18.109375 46.1875 \r\nQ 20.953125 51.171875 25.484375 53.578125 \r\nQ 30.03125 56 36.53125 56 \r\nQ 37.453125 56 38.578125 55.875 \r\nQ 39.703125 55.765625 41.0625 55.515625 \r\nz\r\n\" id=\"DejaVuSans-114\"/>\r\n      </defs>\r\n      <use xlink:href=\"#DejaVuSans-69\"/>\r\n      <use x=\"63.183594\" xlink:href=\"#DejaVuSans-112\"/>\r\n      <use x=\"126.660156\" xlink:href=\"#DejaVuSans-111\"/>\r\n      <use x=\"187.841797\" xlink:href=\"#DejaVuSans-99\"/>\r\n      <use x=\"242.822266\" xlink:href=\"#DejaVuSans-104\"/>\r\n      <use x=\"306.201172\" xlink:href=\"#DejaVuSans-32\"/>\r\n      <use x=\"337.988281\" xlink:href=\"#DejaVuSans-78\"/>\r\n      <use x=\"412.792969\" xlink:href=\"#DejaVuSans-117\"/>\r\n      <use x=\"476.171875\" xlink:href=\"#DejaVuSans-109\"/>\r\n      <use x=\"573.583984\" xlink:href=\"#DejaVuSans-98\"/>\r\n      <use x=\"637.060547\" xlink:href=\"#DejaVuSans-101\"/>\r\n      <use x=\"698.583984\" xlink:href=\"#DejaVuSans-114\"/>\r\n     </g>\r\n    </g>\r\n   </g>\r\n   <g id=\"matplotlib.axis_2\">\r\n    <g id=\"ytick_1\">\r\n     <g id=\"line2d_7\">\r\n      <defs>\r\n       <path d=\"M 0 0 \r\nL -3.5 0 \r\n\" id=\"md89deae6c4\" style=\"stroke:#000000;stroke-width:0.8;\"/>\r\n      </defs>\r\n      <g>\r\n       <use style=\"stroke:#000000;stroke-width:0.8;\" x=\"50.14375\" xlink:href=\"#md89deae6c4\" y=\"224.357196\"/>\r\n      </g>\r\n     </g>\r\n     <g id=\"text_8\">\r\n      <!-- 0.01 -->\r\n      <g transform=\"translate(20.878125 228.156415)scale(0.1 -0.1)\">\r\n       <defs>\r\n        <path d=\"M 10.6875 12.40625 \r\nL 21 12.40625 \r\nL 21 0 \r\nL 10.6875 0 \r\nz\r\n\" id=\"DejaVuSans-46\"/>\r\n       </defs>\r\n       <use xlink:href=\"#DejaVuSans-48\"/>\r\n       <use x=\"63.623047\" xlink:href=\"#DejaVuSans-46\"/>\r\n       <use x=\"95.410156\" xlink:href=\"#DejaVuSans-48\"/>\r\n       <use x=\"159.033203\" xlink:href=\"#DejaVuSans-49\"/>\r\n      </g>\r\n     </g>\r\n    </g>\r\n    <g id=\"ytick_2\">\r\n     <g id=\"line2d_8\">\r\n      <g>\r\n       <use style=\"stroke:#000000;stroke-width:0.8;\" x=\"50.14375\" xlink:href=\"#md89deae6c4\" y=\"182.102649\"/>\r\n      </g>\r\n     </g>\r\n     <g id=\"text_9\">\r\n      <!-- 0.02 -->\r\n      <g transform=\"translate(20.878125 185.901868)scale(0.1 -0.1)\">\r\n       <use xlink:href=\"#DejaVuSans-48\"/>\r\n       <use x=\"63.623047\" xlink:href=\"#DejaVuSans-46\"/>\r\n       <use x=\"95.410156\" xlink:href=\"#DejaVuSans-48\"/>\r\n       <use x=\"159.033203\" xlink:href=\"#DejaVuSans-50\"/>\r\n      </g>\r\n     </g>\r\n    </g>\r\n    <g id=\"ytick_3\">\r\n     <g id=\"line2d_9\">\r\n      <g>\r\n       <use style=\"stroke:#000000;stroke-width:0.8;\" x=\"50.14375\" xlink:href=\"#md89deae6c4\" y=\"139.848102\"/>\r\n      </g>\r\n     </g>\r\n     <g id=\"text_10\">\r\n      <!-- 0.03 -->\r\n      <g transform=\"translate(20.878125 143.647321)scale(0.1 -0.1)\">\r\n       <defs>\r\n        <path d=\"M 40.578125 39.3125 \r\nQ 47.65625 37.796875 51.625 33 \r\nQ 55.609375 28.21875 55.609375 21.1875 \r\nQ 55.609375 10.40625 48.1875 4.484375 \r\nQ 40.765625 -1.421875 27.09375 -1.421875 \r\nQ 22.515625 -1.421875 17.65625 -0.515625 \r\nQ 12.796875 0.390625 7.625 2.203125 \r\nL 7.625 11.71875 \r\nQ 11.71875 9.328125 16.59375 8.109375 \r\nQ 21.484375 6.890625 26.8125 6.890625 \r\nQ 36.078125 6.890625 40.9375 10.546875 \r\nQ 45.796875 14.203125 45.796875 21.1875 \r\nQ 45.796875 27.640625 41.28125 31.265625 \r\nQ 36.765625 34.90625 28.71875 34.90625 \r\nL 20.21875 34.90625 \r\nL 20.21875 43.015625 \r\nL 29.109375 43.015625 \r\nQ 36.375 43.015625 40.234375 45.921875 \r\nQ 44.09375 48.828125 44.09375 54.296875 \r\nQ 44.09375 59.90625 40.109375 62.90625 \r\nQ 36.140625 65.921875 28.71875 65.921875 \r\nQ 24.65625 65.921875 20.015625 65.03125 \r\nQ 15.375 64.15625 9.8125 62.3125 \r\nL 9.8125 71.09375 \r\nQ 15.4375 72.65625 20.34375 73.4375 \r\nQ 25.25 74.21875 29.59375 74.21875 \r\nQ 40.828125 74.21875 47.359375 69.109375 \r\nQ 53.90625 64.015625 53.90625 55.328125 \r\nQ 53.90625 49.265625 50.4375 45.09375 \r\nQ 46.96875 40.921875 40.578125 39.3125 \r\nz\r\n\" id=\"DejaVuSans-51\"/>\r\n       </defs>\r\n       <use xlink:href=\"#DejaVuSans-48\"/>\r\n       <use x=\"63.623047\" xlink:href=\"#DejaVuSans-46\"/>\r\n       <use x=\"95.410156\" xlink:href=\"#DejaVuSans-48\"/>\r\n       <use x=\"159.033203\" xlink:href=\"#DejaVuSans-51\"/>\r\n      </g>\r\n     </g>\r\n    </g>\r\n    <g id=\"ytick_4\">\r\n     <g id=\"line2d_10\">\r\n      <g>\r\n       <use style=\"stroke:#000000;stroke-width:0.8;\" x=\"50.14375\" xlink:href=\"#md89deae6c4\" y=\"97.593555\"/>\r\n      </g>\r\n     </g>\r\n     <g id=\"text_11\">\r\n      <!-- 0.04 -->\r\n      <g transform=\"translate(20.878125 101.392774)scale(0.1 -0.1)\">\r\n       <use xlink:href=\"#DejaVuSans-48\"/>\r\n       <use x=\"63.623047\" xlink:href=\"#DejaVuSans-46\"/>\r\n       <use x=\"95.410156\" xlink:href=\"#DejaVuSans-48\"/>\r\n       <use x=\"159.033203\" xlink:href=\"#DejaVuSans-52\"/>\r\n      </g>\r\n     </g>\r\n    </g>\r\n    <g id=\"ytick_5\">\r\n     <g id=\"line2d_11\">\r\n      <g>\r\n       <use style=\"stroke:#000000;stroke-width:0.8;\" x=\"50.14375\" xlink:href=\"#md89deae6c4\" y=\"55.339008\"/>\r\n      </g>\r\n     </g>\r\n     <g id=\"text_12\">\r\n      <!-- 0.05 -->\r\n      <g transform=\"translate(20.878125 59.138226)scale(0.1 -0.1)\">\r\n       <defs>\r\n        <path d=\"M 10.796875 72.90625 \r\nL 49.515625 72.90625 \r\nL 49.515625 64.59375 \r\nL 19.828125 64.59375 \r\nL 19.828125 46.734375 \r\nQ 21.96875 47.46875 24.109375 47.828125 \r\nQ 26.265625 48.1875 28.421875 48.1875 \r\nQ 40.625 48.1875 47.75 41.5 \r\nQ 54.890625 34.8125 54.890625 23.390625 \r\nQ 54.890625 11.625 47.5625 5.09375 \r\nQ 40.234375 -1.421875 26.90625 -1.421875 \r\nQ 22.3125 -1.421875 17.546875 -0.640625 \r\nQ 12.796875 0.140625 7.71875 1.703125 \r\nL 7.71875 11.625 \r\nQ 12.109375 9.234375 16.796875 8.0625 \r\nQ 21.484375 6.890625 26.703125 6.890625 \r\nQ 35.15625 6.890625 40.078125 11.328125 \r\nQ 45.015625 15.765625 45.015625 23.390625 \r\nQ 45.015625 31 40.078125 35.4375 \r\nQ 35.15625 39.890625 26.703125 39.890625 \r\nQ 22.75 39.890625 18.8125 39.015625 \r\nQ 14.890625 38.140625 10.796875 36.28125 \r\nz\r\n\" id=\"DejaVuSans-53\"/>\r\n       </defs>\r\n       <use xlink:href=\"#DejaVuSans-48\"/>\r\n       <use x=\"63.623047\" xlink:href=\"#DejaVuSans-46\"/>\r\n       <use x=\"95.410156\" xlink:href=\"#DejaVuSans-48\"/>\r\n       <use x=\"159.033203\" xlink:href=\"#DejaVuSans-53\"/>\r\n      </g>\r\n     </g>\r\n    </g>\r\n    <g id=\"text_13\">\r\n     <!-- Training and Validation Losses -->\r\n     <g transform=\"translate(14.798438 206.277187)rotate(-90)scale(0.1 -0.1)\">\r\n      <defs>\r\n       <path d=\"M -0.296875 72.90625 \r\nL 61.375 72.90625 \r\nL 61.375 64.59375 \r\nL 35.5 64.59375 \r\nL 35.5 0 \r\nL 25.59375 0 \r\nL 25.59375 64.59375 \r\nL -0.296875 64.59375 \r\nz\r\n\" id=\"DejaVuSans-84\"/>\r\n       <path d=\"M 34.28125 27.484375 \r\nQ 23.390625 27.484375 19.1875 25 \r\nQ 14.984375 22.515625 14.984375 16.5 \r\nQ 14.984375 11.71875 18.140625 8.90625 \r\nQ 21.296875 6.109375 26.703125 6.109375 \r\nQ 34.1875 6.109375 38.703125 11.40625 \r\nQ 43.21875 16.703125 43.21875 25.484375 \r\nL 43.21875 27.484375 \r\nz\r\nM 52.203125 31.203125 \r\nL 52.203125 0 \r\nL 43.21875 0 \r\nL 43.21875 8.296875 \r\nQ 40.140625 3.328125 35.546875 0.953125 \r\nQ 30.953125 -1.421875 24.3125 -1.421875 \r\nQ 15.921875 -1.421875 10.953125 3.296875 \r\nQ 6 8.015625 6 15.921875 \r\nQ 6 25.140625 12.171875 29.828125 \r\nQ 18.359375 34.515625 30.609375 34.515625 \r\nL 43.21875 34.515625 \r\nL 43.21875 35.40625 \r\nQ 43.21875 41.609375 39.140625 45 \r\nQ 35.0625 48.390625 27.6875 48.390625 \r\nQ 23 48.390625 18.546875 47.265625 \r\nQ 14.109375 46.140625 10.015625 43.890625 \r\nL 10.015625 52.203125 \r\nQ 14.9375 54.109375 19.578125 55.046875 \r\nQ 24.21875 56 28.609375 56 \r\nQ 40.484375 56 46.34375 49.84375 \r\nQ 52.203125 43.703125 52.203125 31.203125 \r\nz\r\n\" id=\"DejaVuSans-97\"/>\r\n       <path d=\"M 9.421875 54.6875 \r\nL 18.40625 54.6875 \r\nL 18.40625 0 \r\nL 9.421875 0 \r\nz\r\nM 9.421875 75.984375 \r\nL 18.40625 75.984375 \r\nL 18.40625 64.59375 \r\nL 9.421875 64.59375 \r\nz\r\n\" id=\"DejaVuSans-105\"/>\r\n       <path d=\"M 54.890625 33.015625 \r\nL 54.890625 0 \r\nL 45.90625 0 \r\nL 45.90625 32.71875 \r\nQ 45.90625 40.484375 42.875 44.328125 \r\nQ 39.84375 48.1875 33.796875 48.1875 \r\nQ 26.515625 48.1875 22.3125 43.546875 \r\nQ 18.109375 38.921875 18.109375 30.90625 \r\nL 18.109375 0 \r\nL 9.078125 0 \r\nL 9.078125 54.6875 \r\nL 18.109375 54.6875 \r\nL 18.109375 46.1875 \r\nQ 21.34375 51.125 25.703125 53.5625 \r\nQ 30.078125 56 35.796875 56 \r\nQ 45.21875 56 50.046875 50.171875 \r\nQ 54.890625 44.34375 54.890625 33.015625 \r\nz\r\n\" id=\"DejaVuSans-110\"/>\r\n       <path d=\"M 45.40625 27.984375 \r\nQ 45.40625 37.75 41.375 43.109375 \r\nQ 37.359375 48.484375 30.078125 48.484375 \r\nQ 22.859375 48.484375 18.828125 43.109375 \r\nQ 14.796875 37.75 14.796875 27.984375 \r\nQ 14.796875 18.265625 18.828125 12.890625 \r\nQ 22.859375 7.515625 30.078125 7.515625 \r\nQ 37.359375 7.515625 41.375 12.890625 \r\nQ 45.40625 18.265625 45.40625 27.984375 \r\nz\r\nM 54.390625 6.78125 \r\nQ 54.390625 -7.171875 48.1875 -13.984375 \r\nQ 42 -20.796875 29.203125 -20.796875 \r\nQ 24.46875 -20.796875 20.265625 -20.09375 \r\nQ 16.0625 -19.390625 12.109375 -17.921875 \r\nL 12.109375 -9.1875 \r\nQ 16.0625 -11.328125 19.921875 -12.34375 \r\nQ 23.78125 -13.375 27.78125 -13.375 \r\nQ 36.625 -13.375 41.015625 -8.765625 \r\nQ 45.40625 -4.15625 45.40625 5.171875 \r\nL 45.40625 9.625 \r\nQ 42.625 4.78125 38.28125 2.390625 \r\nQ 33.9375 0 27.875 0 \r\nQ 17.828125 0 11.671875 7.65625 \r\nQ 5.515625 15.328125 5.515625 27.984375 \r\nQ 5.515625 40.671875 11.671875 48.328125 \r\nQ 17.828125 56 27.875 56 \r\nQ 33.9375 56 38.28125 53.609375 \r\nQ 42.625 51.21875 45.40625 46.390625 \r\nL 45.40625 54.6875 \r\nL 54.390625 54.6875 \r\nz\r\n\" id=\"DejaVuSans-103\"/>\r\n       <path d=\"M 45.40625 46.390625 \r\nL 45.40625 75.984375 \r\nL 54.390625 75.984375 \r\nL 54.390625 0 \r\nL 45.40625 0 \r\nL 45.40625 8.203125 \r\nQ 42.578125 3.328125 38.25 0.953125 \r\nQ 33.9375 -1.421875 27.875 -1.421875 \r\nQ 17.96875 -1.421875 11.734375 6.484375 \r\nQ 5.515625 14.40625 5.515625 27.296875 \r\nQ 5.515625 40.1875 11.734375 48.09375 \r\nQ 17.96875 56 27.875 56 \r\nQ 33.9375 56 38.25 53.625 \r\nQ 42.578125 51.265625 45.40625 46.390625 \r\nz\r\nM 14.796875 27.296875 \r\nQ 14.796875 17.390625 18.875 11.75 \r\nQ 22.953125 6.109375 30.078125 6.109375 \r\nQ 37.203125 6.109375 41.296875 11.75 \r\nQ 45.40625 17.390625 45.40625 27.296875 \r\nQ 45.40625 37.203125 41.296875 42.84375 \r\nQ 37.203125 48.484375 30.078125 48.484375 \r\nQ 22.953125 48.484375 18.875 42.84375 \r\nQ 14.796875 37.203125 14.796875 27.296875 \r\nz\r\n\" id=\"DejaVuSans-100\"/>\r\n       <path d=\"M 28.609375 0 \r\nL 0.78125 72.90625 \r\nL 11.078125 72.90625 \r\nL 34.1875 11.53125 \r\nL 57.328125 72.90625 \r\nL 67.578125 72.90625 \r\nL 39.796875 0 \r\nz\r\n\" id=\"DejaVuSans-86\"/>\r\n       <path d=\"M 9.421875 75.984375 \r\nL 18.40625 75.984375 \r\nL 18.40625 0 \r\nL 9.421875 0 \r\nz\r\n\" id=\"DejaVuSans-108\"/>\r\n       <path d=\"M 18.3125 70.21875 \r\nL 18.3125 54.6875 \r\nL 36.8125 54.6875 \r\nL 36.8125 47.703125 \r\nL 18.3125 47.703125 \r\nL 18.3125 18.015625 \r\nQ 18.3125 11.328125 20.140625 9.421875 \r\nQ 21.96875 7.515625 27.59375 7.515625 \r\nL 36.8125 7.515625 \r\nL 36.8125 0 \r\nL 27.59375 0 \r\nQ 17.1875 0 13.234375 3.875 \r\nQ 9.28125 7.765625 9.28125 18.015625 \r\nL 9.28125 47.703125 \r\nL 2.6875 47.703125 \r\nL 2.6875 54.6875 \r\nL 9.28125 54.6875 \r\nL 9.28125 70.21875 \r\nz\r\n\" id=\"DejaVuSans-116\"/>\r\n       <path d=\"M 9.8125 72.90625 \r\nL 19.671875 72.90625 \r\nL 19.671875 8.296875 \r\nL 55.171875 8.296875 \r\nL 55.171875 0 \r\nL 9.8125 0 \r\nz\r\n\" id=\"DejaVuSans-76\"/>\r\n       <path d=\"M 44.28125 53.078125 \r\nL 44.28125 44.578125 \r\nQ 40.484375 46.53125 36.375 47.5 \r\nQ 32.28125 48.484375 27.875 48.484375 \r\nQ 21.1875 48.484375 17.84375 46.4375 \r\nQ 14.5 44.390625 14.5 40.28125 \r\nQ 14.5 37.15625 16.890625 35.375 \r\nQ 19.28125 33.59375 26.515625 31.984375 \r\nL 29.59375 31.296875 \r\nQ 39.15625 29.25 43.1875 25.515625 \r\nQ 47.21875 21.78125 47.21875 15.09375 \r\nQ 47.21875 7.46875 41.1875 3.015625 \r\nQ 35.15625 -1.421875 24.609375 -1.421875 \r\nQ 20.21875 -1.421875 15.453125 -0.5625 \r\nQ 10.6875 0.296875 5.421875 2 \r\nL 5.421875 11.28125 \r\nQ 10.40625 8.6875 15.234375 7.390625 \r\nQ 20.0625 6.109375 24.8125 6.109375 \r\nQ 31.15625 6.109375 34.5625 8.28125 \r\nQ 37.984375 10.453125 37.984375 14.40625 \r\nQ 37.984375 18.0625 35.515625 20.015625 \r\nQ 33.0625 21.96875 24.703125 23.78125 \r\nL 21.578125 24.515625 \r\nQ 13.234375 26.265625 9.515625 29.90625 \r\nQ 5.8125 33.546875 5.8125 39.890625 \r\nQ 5.8125 47.609375 11.28125 51.796875 \r\nQ 16.75 56 26.8125 56 \r\nQ 31.78125 56 36.171875 55.265625 \r\nQ 40.578125 54.546875 44.28125 53.078125 \r\nz\r\n\" id=\"DejaVuSans-115\"/>\r\n      </defs>\r\n      <use xlink:href=\"#DejaVuSans-84\"/>\r\n      <use x=\"46.333984\" xlink:href=\"#DejaVuSans-114\"/>\r\n      <use x=\"87.447266\" xlink:href=\"#DejaVuSans-97\"/>\r\n      <use x=\"148.726562\" xlink:href=\"#DejaVuSans-105\"/>\r\n      <use x=\"176.509766\" xlink:href=\"#DejaVuSans-110\"/>\r\n      <use x=\"239.888672\" xlink:href=\"#DejaVuSans-105\"/>\r\n      <use x=\"267.671875\" xlink:href=\"#DejaVuSans-110\"/>\r\n      <use x=\"331.050781\" xlink:href=\"#DejaVuSans-103\"/>\r\n      <use x=\"394.527344\" xlink:href=\"#DejaVuSans-32\"/>\r\n      <use x=\"426.314453\" xlink:href=\"#DejaVuSans-97\"/>\r\n      <use x=\"487.59375\" xlink:href=\"#DejaVuSans-110\"/>\r\n      <use x=\"550.972656\" xlink:href=\"#DejaVuSans-100\"/>\r\n      <use x=\"614.449219\" xlink:href=\"#DejaVuSans-32\"/>\r\n      <use x=\"646.236328\" xlink:href=\"#DejaVuSans-86\"/>\r\n      <use x=\"706.894531\" xlink:href=\"#DejaVuSans-97\"/>\r\n      <use x=\"768.173828\" xlink:href=\"#DejaVuSans-108\"/>\r\n      <use x=\"795.957031\" xlink:href=\"#DejaVuSans-105\"/>\r\n      <use x=\"823.740234\" xlink:href=\"#DejaVuSans-100\"/>\r\n      <use x=\"887.216797\" xlink:href=\"#DejaVuSans-97\"/>\r\n      <use x=\"948.496094\" xlink:href=\"#DejaVuSans-116\"/>\r\n      <use x=\"987.705078\" xlink:href=\"#DejaVuSans-105\"/>\r\n      <use x=\"1015.488281\" xlink:href=\"#DejaVuSans-111\"/>\r\n      <use x=\"1076.669922\" xlink:href=\"#DejaVuSans-110\"/>\r\n      <use x=\"1140.048828\" xlink:href=\"#DejaVuSans-32\"/>\r\n      <use x=\"1171.835938\" xlink:href=\"#DejaVuSans-76\"/>\r\n      <use x=\"1225.798828\" xlink:href=\"#DejaVuSans-111\"/>\r\n      <use x=\"1286.980469\" xlink:href=\"#DejaVuSans-115\"/>\r\n      <use x=\"1339.080078\" xlink:href=\"#DejaVuSans-115\"/>\r\n      <use x=\"1391.179688\" xlink:href=\"#DejaVuSans-101\"/>\r\n      <use x=\"1452.703125\" xlink:href=\"#DejaVuSans-115\"/>\r\n     </g>\r\n    </g>\r\n   </g>\r\n   <g id=\"line2d_12\">\r\n    <path clip-path=\"url(#p8745abd8ee)\" d=\"M 65.361932 32.201761 \r\nL 68.436312 161.381666 \r\nL 71.510692 170.958203 \r\nL 74.585072 147.588976 \r\nL 77.659452 170.499194 \r\nL 80.733833 186.009067 \r\nL 83.808213 191.209916 \r\nL 86.882593 198.534744 \r\nL 89.956973 192.357399 \r\nL 93.031353 203.225796 \r\nL 96.105733 196.148834 \r\nL 99.180114 197.849914 \r\nL 102.254494 199.111779 \r\nL 105.328874 200.026405 \r\nL 108.403254 198.47322 \r\nL 111.477634 203.326932 \r\nL 114.552014 205.905296 \r\nL 117.626395 210.814298 \r\nL 120.700775 211.878924 \r\nL 123.775155 207.024752 \r\nL 126.849535 201.765822 \r\nL 129.923915 199.769228 \r\nL 132.998295 214.606308 \r\nL 136.072676 213.830153 \r\nL 139.147056 210.0962 \r\nL 142.221436 213.525945 \r\nL 145.295816 216.82445 \r\nL 148.370196 215.509632 \r\nL 151.444576 218.006417 \r\nL 154.518957 213.482291 \r\nL 157.593337 210.519295 \r\nL 160.667717 219.101825 \r\nL 163.742097 216.26225 \r\nL 166.816477 218.453337 \r\nL 169.890857 216.795266 \r\nL 172.965238 203.634064 \r\nL 176.039618 208.236667 \r\nL 179.113998 211.316733 \r\nL 182.188378 217.02028 \r\nL 185.262758 216.146097 \r\nL 188.337138 209.273258 \r\nL 191.411519 213.599767 \r\nL 194.485899 213.281117 \r\nL 197.560279 221.090273 \r\nL 200.634659 221.711009 \r\nL 203.709039 215.630885 \r\nL 206.783419 222.403836 \r\nL 209.8578 218.145175 \r\nL 212.93218 224.718179 \r\nL 216.00656 224.739823 \r\nL 219.08094 225.948054 \r\nL 222.15532 218.069433 \r\nL 225.2297 199.048744 \r\nL 228.304081 223.673508 \r\nL 231.378461 227.927109 \r\nL 234.452841 226.770252 \r\nL 237.527221 209.79004 \r\nL 240.601601 225.612483 \r\nL 243.675981 214.811142 \r\nL 246.750362 220.729382 \r\nL 249.824742 221.051432 \r\nL 252.899122 222.372259 \r\nL 255.973502 222.180939 \r\nL 259.047882 224.068412 \r\nL 262.122262 225.632867 \r\nL 265.196643 204.768788 \r\nL 268.271023 217.712465 \r\nL 271.345403 218.592102 \r\nL 274.419783 222.868744 \r\nL 277.494163 217.558651 \r\nL 280.568543 220.890779 \r\nL 283.642924 229.503567 \r\nL 286.717304 228.693847 \r\nL 289.791684 227.80706 \r\nL 292.866064 227.41584 \r\nL 295.940444 229.311766 \r\nL 299.014824 228.12506 \r\nL 302.089205 225.867983 \r\nL 305.163585 228.507875 \r\nL 308.237965 228.829224 \r\nL 311.312345 227.9573 \r\nL 314.386725 227.959197 \r\nL 317.461105 229.396736 \r\nL 320.535486 227.961873 \r\nL 323.609866 225.209764 \r\nL 326.684246 221.917516 \r\nL 329.758626 222.937327 \r\nL 332.833006 224.940899 \r\nL 335.907386 228.251902 \r\nL 338.981767 227.649929 \r\nL 342.056147 229.874489 \r\nL 345.130527 225.736298 \r\nL 348.204907 228.649461 \r\nL 351.279287 228.313819 \r\nL 354.353667 229.107317 \r\nL 357.428048 226.250176 \r\nL 360.502428 227.664025 \r\nL 363.576808 227.463323 \r\nL 366.651188 228.510004 \r\nL 369.725568 223.508117 \r\n\" style=\"fill:none;stroke:#1f77b4;stroke-linecap:square;stroke-width:1.5;\"/>\r\n   </g>\r\n   <g id=\"line2d_13\">\r\n    <path clip-path=\"url(#p8745abd8ee)\" d=\"M 65.361932 76.958874 \r\nL 68.436312 160.637681 \r\nL 71.510692 146.776298 \r\nL 74.585072 128.178835 \r\nL 77.659452 144.151242 \r\nL 80.733833 143.610648 \r\nL 83.808213 155.44922 \r\nL 86.882593 166.62212 \r\nL 89.956973 144.757572 \r\nL 93.031353 168.012668 \r\nL 96.105733 163.146717 \r\nL 99.180114 138.408751 \r\nL 102.254494 131.477717 \r\nL 105.328874 165.202317 \r\nL 108.403254 149.533971 \r\nL 111.477634 161.155066 \r\nL 114.552014 164.96155 \r\nL 117.626395 178.963178 \r\nL 120.700775 154.727572 \r\nL 123.775155 172.720193 \r\nL 126.849535 183.007974 \r\nL 129.923915 172.561602 \r\nL 132.998295 168.058844 \r\nL 136.072676 177.019899 \r\nL 139.147056 150.309611 \r\nL 142.221436 175.89927 \r\nL 145.295816 180.206453 \r\nL 148.370196 174.756108 \r\nL 151.444576 125.075425 \r\nL 154.518957 179.404935 \r\nL 157.593337 179.301052 \r\nL 160.667717 178.880852 \r\nL 163.742097 170.90052 \r\nL 166.816477 163.536033 \r\nL 169.890857 175.888126 \r\nL 172.965238 142.260743 \r\nL 176.039618 166.105853 \r\nL 179.113998 179.000965 \r\nL 182.188378 178.728613 \r\nL 185.262758 162.05325 \r\nL 188.337138 179.767805 \r\nL 191.411519 166.615453 \r\nL 194.485899 177.000852 \r\nL 197.560279 183.814797 \r\nL 200.634659 187.662223 \r\nL 203.709039 183.839817 \r\nL 206.783419 172.86538 \r\nL 209.8578 190.989006 \r\nL 212.93218 187.868423 \r\nL 216.00656 191.842675 \r\nL 219.08094 177.491202 \r\nL 222.15532 174.306638 \r\nL 225.2297 179.761178 \r\nL 228.304081 173.361444 \r\nL 231.378461 190.674233 \r\nL 234.452841 172.688632 \r\nL 237.527221 179.96656 \r\nL 240.601601 189.564206 \r\nL 243.675981 170.804657 \r\nL 246.750362 166.208366 \r\nL 249.824742 168.005097 \r\nL 252.899122 180.726356 \r\nL 255.973502 175.827349 \r\nL 259.047882 183.292351 \r\nL 262.122262 141.677899 \r\nL 265.196643 188.395268 \r\nL 268.271023 158.59835 \r\nL 271.345403 182.099282 \r\nL 274.419783 172.194292 \r\nL 277.494163 176.209739 \r\nL 280.568543 190.346685 \r\nL 283.642924 199.165425 \r\nL 286.717304 190.261754 \r\nL 289.791684 201.613437 \r\nL 292.866064 182.653957 \r\nL 295.940444 197.307588 \r\nL 299.014824 190.279258 \r\nL 302.089205 198.862457 \r\nL 305.163585 184.799053 \r\nL 308.237965 188.93299 \r\nL 311.312345 195.589303 \r\nL 314.386725 193.185496 \r\nL 317.461105 194.02292 \r\nL 320.535486 172.226365 \r\nL 323.609866 186.371473 \r\nL 326.684246 183.248198 \r\nL 329.758626 189.128903 \r\nL 332.833006 189.159952 \r\nL 335.907386 194.498882 \r\nL 338.981767 199.984211 \r\nL 342.056147 188.615737 \r\nL 345.130527 208.572026 \r\nL 348.204907 201.590077 \r\nL 351.279287 197.141724 \r\nL 354.353667 202.988126 \r\nL 357.428048 191.004354 \r\nL 360.502428 199.680731 \r\nL 363.576808 207.392459 \r\nL 366.651188 206.040405 \r\nL 369.725568 187.35735 \r\n\" style=\"fill:none;stroke:#ff7f0e;stroke-linecap:square;stroke-width:1.5;\"/>\r\n   </g>\r\n   <g id=\"patch_3\">\r\n    <path d=\"M 50.14375 239.758125 \r\nL 50.14375 22.318125 \r\n\" style=\"fill:none;stroke:#000000;stroke-linecap:square;stroke-linejoin:miter;stroke-width:0.8;\"/>\r\n   </g>\r\n   <g id=\"patch_4\">\r\n    <path d=\"M 384.94375 239.758125 \r\nL 384.94375 22.318125 \r\n\" style=\"fill:none;stroke:#000000;stroke-linecap:square;stroke-linejoin:miter;stroke-width:0.8;\"/>\r\n   </g>\r\n   <g id=\"patch_5\">\r\n    <path d=\"M 50.14375 239.758125 \r\nL 384.94375 239.758125 \r\n\" style=\"fill:none;stroke:#000000;stroke-linecap:square;stroke-linejoin:miter;stroke-width:0.8;\"/>\r\n   </g>\r\n   <g id=\"patch_6\">\r\n    <path d=\"M 50.14375 22.318125 \r\nL 384.94375 22.318125 \r\n\" style=\"fill:none;stroke:#000000;stroke-linecap:square;stroke-linejoin:miter;stroke-width:0.8;\"/>\r\n   </g>\r\n   <g id=\"text_14\">\r\n    <!-- Model Loss Progression During Training/Validation -->\r\n    <g transform=\"translate(68.51125 16.318125)scale(0.12 -0.12)\">\r\n     <defs>\r\n      <path d=\"M 9.8125 72.90625 \r\nL 24.515625 72.90625 \r\nL 43.109375 23.296875 \r\nL 61.8125 72.90625 \r\nL 76.515625 72.90625 \r\nL 76.515625 0 \r\nL 66.890625 0 \r\nL 66.890625 64.015625 \r\nL 48.09375 14.015625 \r\nL 38.1875 14.015625 \r\nL 19.390625 64.015625 \r\nL 19.390625 0 \r\nL 9.8125 0 \r\nz\r\n\" id=\"DejaVuSans-77\"/>\r\n      <path d=\"M 19.671875 64.796875 \r\nL 19.671875 37.40625 \r\nL 32.078125 37.40625 \r\nQ 38.96875 37.40625 42.71875 40.96875 \r\nQ 46.484375 44.53125 46.484375 51.125 \r\nQ 46.484375 57.671875 42.71875 61.234375 \r\nQ 38.96875 64.796875 32.078125 64.796875 \r\nz\r\nM 9.8125 72.90625 \r\nL 32.078125 72.90625 \r\nQ 44.34375 72.90625 50.609375 67.359375 \r\nQ 56.890625 61.8125 56.890625 51.125 \r\nQ 56.890625 40.328125 50.609375 34.8125 \r\nQ 44.34375 29.296875 32.078125 29.296875 \r\nL 19.671875 29.296875 \r\nL 19.671875 0 \r\nL 9.8125 0 \r\nz\r\n\" id=\"DejaVuSans-80\"/>\r\n      <path d=\"M 19.671875 64.796875 \r\nL 19.671875 8.109375 \r\nL 31.59375 8.109375 \r\nQ 46.6875 8.109375 53.6875 14.9375 \r\nQ 60.6875 21.78125 60.6875 36.53125 \r\nQ 60.6875 51.171875 53.6875 57.984375 \r\nQ 46.6875 64.796875 31.59375 64.796875 \r\nz\r\nM 9.8125 72.90625 \r\nL 30.078125 72.90625 \r\nQ 51.265625 72.90625 61.171875 64.09375 \r\nQ 71.09375 55.28125 71.09375 36.53125 \r\nQ 71.09375 17.671875 61.125 8.828125 \r\nQ 51.171875 0 30.078125 0 \r\nL 9.8125 0 \r\nz\r\n\" id=\"DejaVuSans-68\"/>\r\n      <path d=\"M 25.390625 72.90625 \r\nL 33.6875 72.90625 \r\nL 8.296875 -9.28125 \r\nL 0 -9.28125 \r\nz\r\n\" id=\"DejaVuSans-47\"/>\r\n     </defs>\r\n     <use xlink:href=\"#DejaVuSans-77\"/>\r\n     <use x=\"86.279297\" xlink:href=\"#DejaVuSans-111\"/>\r\n     <use x=\"147.460938\" xlink:href=\"#DejaVuSans-100\"/>\r\n     <use x=\"210.9375\" xlink:href=\"#DejaVuSans-101\"/>\r\n     <use x=\"272.460938\" xlink:href=\"#DejaVuSans-108\"/>\r\n     <use x=\"300.244141\" xlink:href=\"#DejaVuSans-32\"/>\r\n     <use x=\"332.03125\" xlink:href=\"#DejaVuSans-76\"/>\r\n     <use x=\"385.994141\" xlink:href=\"#DejaVuSans-111\"/>\r\n     <use x=\"447.175781\" xlink:href=\"#DejaVuSans-115\"/>\r\n     <use x=\"499.275391\" xlink:href=\"#DejaVuSans-115\"/>\r\n     <use x=\"551.375\" xlink:href=\"#DejaVuSans-32\"/>\r\n     <use x=\"583.162109\" xlink:href=\"#DejaVuSans-80\"/>\r\n     <use x=\"641.714844\" xlink:href=\"#DejaVuSans-114\"/>\r\n     <use x=\"680.578125\" xlink:href=\"#DejaVuSans-111\"/>\r\n     <use x=\"741.759766\" xlink:href=\"#DejaVuSans-103\"/>\r\n     <use x=\"805.236328\" xlink:href=\"#DejaVuSans-114\"/>\r\n     <use x=\"844.099609\" xlink:href=\"#DejaVuSans-101\"/>\r\n     <use x=\"905.623047\" xlink:href=\"#DejaVuSans-115\"/>\r\n     <use x=\"957.722656\" xlink:href=\"#DejaVuSans-115\"/>\r\n     <use x=\"1009.822266\" xlink:href=\"#DejaVuSans-105\"/>\r\n     <use x=\"1037.605469\" xlink:href=\"#DejaVuSans-111\"/>\r\n     <use x=\"1098.787109\" xlink:href=\"#DejaVuSans-110\"/>\r\n     <use x=\"1162.166016\" xlink:href=\"#DejaVuSans-32\"/>\r\n     <use x=\"1193.953125\" xlink:href=\"#DejaVuSans-68\"/>\r\n     <use x=\"1270.955078\" xlink:href=\"#DejaVuSans-117\"/>\r\n     <use x=\"1334.333984\" xlink:href=\"#DejaVuSans-114\"/>\r\n     <use x=\"1375.447266\" xlink:href=\"#DejaVuSans-105\"/>\r\n     <use x=\"1403.230469\" xlink:href=\"#DejaVuSans-110\"/>\r\n     <use x=\"1466.609375\" xlink:href=\"#DejaVuSans-103\"/>\r\n     <use x=\"1530.085938\" xlink:href=\"#DejaVuSans-32\"/>\r\n     <use x=\"1561.873047\" xlink:href=\"#DejaVuSans-84\"/>\r\n     <use x=\"1608.207031\" xlink:href=\"#DejaVuSans-114\"/>\r\n     <use x=\"1649.320312\" xlink:href=\"#DejaVuSans-97\"/>\r\n     <use x=\"1710.599609\" xlink:href=\"#DejaVuSans-105\"/>\r\n     <use x=\"1738.382812\" xlink:href=\"#DejaVuSans-110\"/>\r\n     <use x=\"1801.761719\" xlink:href=\"#DejaVuSans-105\"/>\r\n     <use x=\"1829.544922\" xlink:href=\"#DejaVuSans-110\"/>\r\n     <use x=\"1892.923828\" xlink:href=\"#DejaVuSans-103\"/>\r\n     <use x=\"1956.400391\" xlink:href=\"#DejaVuSans-47\"/>\r\n     <use x=\"1990.091797\" xlink:href=\"#DejaVuSans-86\"/>\r\n     <use x=\"2050.75\" xlink:href=\"#DejaVuSans-97\"/>\r\n     <use x=\"2112.029297\" xlink:href=\"#DejaVuSans-108\"/>\r\n     <use x=\"2139.8125\" xlink:href=\"#DejaVuSans-105\"/>\r\n     <use x=\"2167.595703\" xlink:href=\"#DejaVuSans-100\"/>\r\n     <use x=\"2231.072266\" xlink:href=\"#DejaVuSans-97\"/>\r\n     <use x=\"2292.351562\" xlink:href=\"#DejaVuSans-116\"/>\r\n     <use x=\"2331.560547\" xlink:href=\"#DejaVuSans-105\"/>\r\n     <use x=\"2359.34375\" xlink:href=\"#DejaVuSans-111\"/>\r\n     <use x=\"2420.525391\" xlink:href=\"#DejaVuSans-110\"/>\r\n    </g>\r\n   </g>\r\n   <g id=\"legend_1\">\r\n    <g id=\"patch_7\">\r\n     <path d=\"M 271.45 59.674375 \r\nL 377.94375 59.674375 \r\nQ 379.94375 59.674375 379.94375 57.674375 \r\nL 379.94375 29.318125 \r\nQ 379.94375 27.318125 377.94375 27.318125 \r\nL 271.45 27.318125 \r\nQ 269.45 27.318125 269.45 29.318125 \r\nL 269.45 57.674375 \r\nQ 269.45 59.674375 271.45 59.674375 \r\nz\r\n\" style=\"fill:#ffffff;opacity:0.8;stroke:#cccccc;stroke-linejoin:miter;\"/>\r\n    </g>\r\n    <g id=\"line2d_14\">\r\n     <path d=\"M 273.45 35.416562 \r\nL 293.45 35.416562 \r\n\" style=\"fill:none;stroke:#1f77b4;stroke-linecap:square;stroke-width:1.5;\"/>\r\n    </g>\r\n    <g id=\"line2d_15\"/>\r\n    <g id=\"text_15\">\r\n     <!-- Training Loss -->\r\n     <g transform=\"translate(301.45 38.916562)scale(0.1 -0.1)\">\r\n      <use xlink:href=\"#DejaVuSans-84\"/>\r\n      <use x=\"46.333984\" xlink:href=\"#DejaVuSans-114\"/>\r\n      <use x=\"87.447266\" xlink:href=\"#DejaVuSans-97\"/>\r\n      <use x=\"148.726562\" xlink:href=\"#DejaVuSans-105\"/>\r\n      <use x=\"176.509766\" xlink:href=\"#DejaVuSans-110\"/>\r\n      <use x=\"239.888672\" xlink:href=\"#DejaVuSans-105\"/>\r\n      <use x=\"267.671875\" xlink:href=\"#DejaVuSans-110\"/>\r\n      <use x=\"331.050781\" xlink:href=\"#DejaVuSans-103\"/>\r\n      <use x=\"394.527344\" xlink:href=\"#DejaVuSans-32\"/>\r\n      <use x=\"426.314453\" xlink:href=\"#DejaVuSans-76\"/>\r\n      <use x=\"480.277344\" xlink:href=\"#DejaVuSans-111\"/>\r\n      <use x=\"541.458984\" xlink:href=\"#DejaVuSans-115\"/>\r\n      <use x=\"593.558594\" xlink:href=\"#DejaVuSans-115\"/>\r\n     </g>\r\n    </g>\r\n    <g id=\"line2d_16\">\r\n     <path d=\"M 273.45 50.094687 \r\nL 293.45 50.094687 \r\n\" style=\"fill:none;stroke:#ff7f0e;stroke-linecap:square;stroke-width:1.5;\"/>\r\n    </g>\r\n    <g id=\"line2d_17\"/>\r\n    <g id=\"text_16\">\r\n     <!-- Validation Loss -->\r\n     <g transform=\"translate(301.45 53.594687)scale(0.1 -0.1)\">\r\n      <use xlink:href=\"#DejaVuSans-86\"/>\r\n      <use x=\"60.658203\" xlink:href=\"#DejaVuSans-97\"/>\r\n      <use x=\"121.9375\" xlink:href=\"#DejaVuSans-108\"/>\r\n      <use x=\"149.720703\" xlink:href=\"#DejaVuSans-105\"/>\r\n      <use x=\"177.503906\" xlink:href=\"#DejaVuSans-100\"/>\r\n      <use x=\"240.980469\" xlink:href=\"#DejaVuSans-97\"/>\r\n      <use x=\"302.259766\" xlink:href=\"#DejaVuSans-116\"/>\r\n      <use x=\"341.46875\" xlink:href=\"#DejaVuSans-105\"/>\r\n      <use x=\"369.251953\" xlink:href=\"#DejaVuSans-111\"/>\r\n      <use x=\"430.433594\" xlink:href=\"#DejaVuSans-110\"/>\r\n      <use x=\"493.8125\" xlink:href=\"#DejaVuSans-32\"/>\r\n      <use x=\"525.599609\" xlink:href=\"#DejaVuSans-76\"/>\r\n      <use x=\"579.5625\" xlink:href=\"#DejaVuSans-111\"/>\r\n      <use x=\"640.744141\" xlink:href=\"#DejaVuSans-115\"/>\r\n      <use x=\"692.84375\" xlink:href=\"#DejaVuSans-115\"/>\r\n     </g>\r\n    </g>\r\n   </g>\r\n  </g>\r\n </g>\r\n <defs>\r\n  <clipPath id=\"p8745abd8ee\">\r\n   <rect height=\"217.44\" width=\"334.8\" x=\"50.14375\" y=\"22.318125\"/>\r\n  </clipPath>\r\n </defs>\r\n</svg>\r\n",
      "image/png": "[encoded data removed]"
     },
     "metadata": {
      "needs_background": "light"
     }
    }
   ],
   "source": [
    "plt.plot(epochs_hist.history['loss'])\n",
    "plt.plot(epochs_hist.history['val_loss'])\n",
    "\n",
    "plt.title('Model Loss Progression During Training/Validation')\n",
    "plt.ylabel('Training and Validation Losses')\n",
    "plt.xlabel('Epoch Number')\n",
    "plt.legend(['Training Loss', 'Validation Loss'])"
   ]
  },
  {
   "cell_type": "code",
   "execution_count": 21,
   "metadata": {},
   "outputs": [
    {
     "output_type": "stream",
     "name": "stdout",
     "text": [
      "94.80812641083521\n"
     ]
    }
   ],
   "source": [
    "from sklearn.metrics import accuracy_score\n",
    "y_pred1 = model.predict(X_test)\n",
    "y_pred = np.argmax(y_pred1, axis=1)\n",
    "\n",
    "# Printaccuracy score\n",
    "print(accuracy_score(y_test, y_pred)*100)"
   ]
  },
  {
   "cell_type": "code",
   "execution_count": 22,
   "metadata": {},
   "outputs": [
    {
     "output_type": "execute_result",
     "data": {
      "text/plain": [
       "array([[1260,    0],\n",
       "       [  69,    0]], dtype=int64)"
      ]
     },
     "metadata": {},
     "execution_count": 22
    }
   ],
   "source": [
    "from sklearn import metrics\n",
    "metrics.confusion_matrix(y_test,y_pred)"
   ]
  },
  {
   "cell_type": "code",
   "execution_count": null,
   "metadata": {},
   "outputs": [],
   "source": []
  }
 ]
}